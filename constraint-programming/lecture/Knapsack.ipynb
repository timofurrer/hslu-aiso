{
 "cells": [
  {
   "cell_type": "markdown",
   "metadata": {},
   "source": [
    "# Knapsack Problem"
   ]
  },
  {
   "cell_type": "markdown",
   "metadata": {},
   "source": [
    "Lucerne University of Applied Sciences and Arts - School of Information Technology\n",
    "\n",
    "@author: Tobias Mérinat"
   ]
  },
  {
   "cell_type": "markdown",
   "metadata": {},
   "source": [
    "Imports"
   ]
  },
  {
   "cell_type": "code",
   "execution_count": 14,
   "metadata": {},
   "outputs": [],
   "source": [
    "import math\n",
    "\n",
    "from ortools.constraint_solver import pywrapcp"
   ]
  },
  {
   "cell_type": "markdown",
   "metadata": {},
   "source": [
    "A small example"
   ]
  },
  {
   "cell_type": "code",
   "execution_count": 15,
   "metadata": {},
   "outputs": [],
   "source": [
    "values = [15, 10, 7]\n",
    "# names = [\"Whiskey\", \"Perfume\", \"Cigarettes\"]\n",
    "weights = [4, 3, 2]\n",
    "capacity = 9"
   ]
  },
  {
   "cell_type": "markdown",
   "metadata": {},
   "source": [
    "A slightly larger example"
   ]
  },
  {
   "cell_type": "code",
   "execution_count": 16,
   "metadata": {},
   "outputs": [],
   "source": [
    "# values = [12, 8, 2, 15]\n",
    "# # names = [\"Whiskey\", \"Perfume\", \"Corned Beef\", \"Riffle\"]\n",
    "# weights = [4, 3, 2, 6]\n",
    "# capacity = 29"
   ]
  },
  {
   "cell_type": "markdown",
   "metadata": {},
   "source": [
    "An even larger example, taken from [here](https://people.sc.fsu.edu/~jburkardt/datasets/knapsack_01/knapsack_01.html)"
   ]
  },
  {
   "cell_type": "code",
   "execution_count": 17,
   "metadata": {},
   "outputs": [],
   "source": [
    "# values = (135, 139, 149, 150, 156, 163, 173, 184, 192, 201, 210, 214, 221, 229, 240)\n",
    "# weights = (70, 73, 77, 80, 82, 87, 90, 94, 98, 106, 110, 113, 115, 118, 120)\n",
    "# capacity = 750\n",
    "# # Optimal profit for 0/1 variant: 1458\n",
    "# # Optimal profit for unrestricted variant: 1488"
   ]
  },
  {
   "cell_type": "markdown",
   "metadata": {},
   "source": [
    "Choose whether to solve the 01 Knapsack problem (pick at most one of each items)"
   ]
  },
  {
   "cell_type": "code",
   "execution_count": 18,
   "metadata": {},
   "outputs": [],
   "source": [
    "zero_one_variant = True"
   ]
  },
  {
   "cell_type": "markdown",
   "metadata": {},
   "source": [
    "Create constraint solver"
   ]
  },
  {
   "cell_type": "code",
   "execution_count": 19,
   "metadata": {},
   "outputs": [],
   "source": [
    "solver = pywrapcp.Solver(\"Subset Sum xkcd\")"
   ]
  },
  {
   "cell_type": "markdown",
   "metadata": {},
   "source": [
    "Configure variables (the number of times an item is chosen)"
   ]
  },
  {
   "cell_type": "code",
   "execution_count": 20,
   "metadata": {},
   "outputs": [],
   "source": [
    "if zero_one_variant:\n",
    "    choices = [solver.BoolVar() for _ in weights]\n",
    "else:\n",
    "    choices = [solver.IntVar(0, math.floor(capacity/weight)) for weight in weights]"
   ]
  },
  {
   "cell_type": "markdown",
   "metadata": {},
   "source": [
    "Total weight must not exceed capacity"
   ]
  },
  {
   "cell_type": "code",
   "execution_count": 21,
   "metadata": {},
   "outputs": [],
   "source": [
    "total_weight = solver.ScalProd(choices, weights).Var()\n",
    "solver.Add(total_weight <= capacity)"
   ]
  },
  {
   "cell_type": "markdown",
   "metadata": {},
   "source": [
    "Price objective (solver.Difference is not available in the Python wrapper)"
   ]
  },
  {
   "cell_type": "code",
   "execution_count": 22,
   "metadata": {},
   "outputs": [],
   "source": [
    "total_value = solver.ScalProd(choices, values).Var()\n",
    "objective = solver.Maximize(total_value, 1)"
   ]
  },
  {
   "cell_type": "markdown",
   "metadata": {},
   "source": [
    "Configure solver"
   ]
  },
  {
   "cell_type": "code",
   "execution_count": 23,
   "metadata": {},
   "outputs": [],
   "source": [
    "db = solver.Phase(choices, solver.INT_VAR_SIMPLE, solver.INT_VALUE_SIMPLE)"
   ]
  },
  {
   "cell_type": "markdown",
   "metadata": {},
   "source": [
    "Start solver"
   ]
  },
  {
   "cell_type": "code",
   "execution_count": 24,
   "metadata": {
    "code_folding": []
   },
   "outputs": [
    {
     "name": "stdout",
     "output_type": "stream",
     "text": [
      "Total Value: 0, Total Weight: 0 / Capacity: 9\n",
      "\n",
      "\n",
      "Total Value: 7, Total Weight: 2 / Capacity: 9\n",
      "Item 2 with value 7 and weight 2 has been chosen 1 times\n",
      "\n",
      "\n",
      "Total Value: 10, Total Weight: 3 / Capacity: 9\n",
      "Item 1 with value 10 and weight 3 has been chosen 1 times\n",
      "\n",
      "\n",
      "Total Value: 17, Total Weight: 5 / Capacity: 9\n",
      "Item 1 with value 10 and weight 3 has been chosen 1 times\n",
      "Item 2 with value 7 and weight 2 has been chosen 1 times\n",
      "\n",
      "\n",
      "Total Value: 22, Total Weight: 6 / Capacity: 9\n",
      "Item 0 with value 15 and weight 4 has been chosen 1 times\n",
      "Item 2 with value 7 and weight 2 has been chosen 1 times\n",
      "\n",
      "\n",
      "Total Value: 25, Total Weight: 7 / Capacity: 9\n",
      "Item 0 with value 15 and weight 4 has been chosen 1 times\n",
      "Item 1 with value 10 and weight 3 has been chosen 1 times\n",
      "\n",
      "\n",
      "Total Value: 32, Total Weight: 9 / Capacity: 9\n",
      "Item 0 with value 15 and weight 4 has been chosen 1 times\n",
      "Item 1 with value 10 and weight 3 has been chosen 1 times\n",
      "Item 2 with value 7 and weight 2 has been chosen 1 times\n",
      "\n",
      "\n"
     ]
    }
   ],
   "source": [
    "solver.NewSearch(db, objective)\n",
    "\n",
    "while solver.NextSolution():\n",
    "    print(\"Total Value: {}, Total Weight: {} / Capacity: {}\".format(total_value.Value(),\n",
    "                                                                    total_weight.Value(), capacity))\n",
    "    for (i, item), value, weight in zip(enumerate(choices), values, weights):\n",
    "        if item.Value() > 0:\n",
    "            print(\"Item {} with value {} and weight {} has been chosen {} times\".format(i, value, weight,\n",
    "                                                                                        item.Value()))\n",
    "    print(\"\\n\")"
   ]
  },
  {
   "cell_type": "markdown",
   "metadata": {},
   "source": [
    "Cleanup"
   ]
  },
  {
   "cell_type": "code",
   "execution_count": 25,
   "metadata": {},
   "outputs": [],
   "source": [
    "solver.EndSearch()"
   ]
  },
  {
   "cell_type": "markdown",
   "metadata": {},
   "source": [
    "Print solver information"
   ]
  },
  {
   "cell_type": "code",
   "execution_count": 26,
   "metadata": {},
   "outputs": [
    {
     "name": "stdout",
     "output_type": "stream",
     "text": [
      "Solutions: 7\n",
      "Runtime:   34ms\n",
      "Failures:  0\n",
      "Branches:  12 \n"
     ]
    }
   ],
   "source": [
    "print(\"Solutions: {}\".format(solver.Solutions()))\n",
    "print(\"Runtime:   {}ms\".format(solver.WallTime()))\n",
    "print(\"Failures:  {}\".format(solver.Failures()))\n",
    "print(\"Branches:  {} \".format(solver.Branches()))"
   ]
  }
 ],
 "metadata": {
  "jupytext": {
   "cell_metadata_filter": "-all",
   "main_language": "python",
   "notebook_metadata_filter": "-all",
   "text_representation": {
    "extension": ".py",
    "format_name": "percent"
   }
  },
  "kernelspec": {
   "display_name": "Python 3",
   "language": "python",
   "name": "python3"
  },
  "language_info": {
   "codemirror_mode": {
    "name": "ipython",
    "version": 3
   },
   "file_extension": ".py",
   "mimetype": "text/x-python",
   "name": "python",
   "nbconvert_exporter": "python",
   "pygments_lexer": "ipython3",
   "version": "3.6.6"
  }
 },
 "nbformat": 4,
 "nbformat_minor": 2
}
