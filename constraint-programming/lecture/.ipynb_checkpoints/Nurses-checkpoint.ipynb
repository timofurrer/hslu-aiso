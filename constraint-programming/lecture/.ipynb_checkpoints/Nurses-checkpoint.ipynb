{
 "cells": [
  {
   "cell_type": "markdown",
   "metadata": {},
   "source": [
    "# Nurse Scheduling Problem"
   ]
  },
  {
   "cell_type": "markdown",
   "metadata": {},
   "source": [
    "Lucerne University of Applied Sciences and Arts - School of Information Technology\n",
    "\n",
    "@author: Tobias Mérinat"
   ]
  },
  {
   "cell_type": "markdown",
   "metadata": {},
   "source": [
    "Imports"
   ]
  },
  {
   "cell_type": "code",
   "execution_count": 63,
   "metadata": {
    "lines_to_next_cell": 1
   },
   "outputs": [],
   "source": [
    "from ortools.constraint_solver import pywrapcp\n",
    "from itertools import product"
   ]
  },
  {
   "cell_type": "markdown",
   "metadata": {},
   "source": [
    "Pretty-print schedule"
   ]
  },
  {
   "cell_type": "code",
   "execution_count": 64,
   "metadata": {
    "lines_to_next_cell": 1
   },
   "outputs": [],
   "source": [
    "def pretty_print(schedule):\n",
    "    mapper1 = {0: 'A', 1: 'B', 2: 'C', 3: 'D'}\n",
    "    mapper2 = {0: 'HO |', 1: 'S1 |', 2: 'S2 |', 3: 'S3 |'}\n",
    "    print(\"SHIFT | M T W T F S S\")\n",
    "    print(\"---------------------\")\n",
    "    for i in range(len(schedule)):\n",
    "        print(\"   {} \".format(mapper2[i]), end='')\n",
    "        for j in range(len(schedule[0])):\n",
    "            print(\"{} \".format(mapper1[schedule[i][j].Value()]), end='')\n",
    "        print(\"\")\n",
    "    print(\"\\n\\n\")"
   ]
  },
  {
   "cell_type": "markdown",
   "metadata": {},
   "source": [
    "Nurse Schedule Problem from lecture"
   ]
  },
  {
   "cell_type": "code",
   "execution_count": 65,
   "metadata": {},
   "outputs": [],
   "source": [
    "num_nurses = 4\n",
    "num_days = 7\n",
    "holiday_shift = 0\n",
    "day_shift = 1\n",
    "late_shift = 2\n",
    "night_shift = 3\n",
    "shifts = (holiday_shift, day_shift, late_shift, night_shift)"
   ]
  },
  {
   "cell_type": "markdown",
   "metadata": {},
   "source": [
    "Create constraint solver"
   ]
  },
  {
   "cell_type": "code",
   "execution_count": 66,
   "metadata": {},
   "outputs": [],
   "source": [
    "solver = pywrapcp.Solver(\"Nurses\")"
   ]
  },
  {
   "cell_type": "markdown",
   "metadata": {},
   "source": [
    "Schedule configuration"
   ]
  },
  {
   "cell_type": "code",
   "execution_count": 67,
   "metadata": {},
   "outputs": [],
   "source": [
    "num_shifts = len(shifts)\n",
    "schedule_indices = list(product(range(num_shifts), range(num_days)))  # tuples (i, j) for all schedule indices"
   ]
  },
  {
   "cell_type": "markdown",
   "metadata": {},
   "source": [
    "Decision variables: schedule[s][d]==n means nurse n works shift s on day d"
   ]
  },
  {
   "cell_type": "code",
   "execution_count": 68,
   "metadata": {},
   "outputs": [],
   "source": [
    "schedule = [[solver.IntVar(0, num_nurses-1) for _d in range(num_days)] for _s in range(num_shifts)]"
   ]
  },
  {
   "cell_type": "markdown",
   "metadata": {},
   "source": [
    "A Nurse must not work two shifts on the same Day"
   ]
  },
  {
   "cell_type": "code",
   "execution_count": 69,
   "metadata": {},
   "outputs": [],
   "source": [
    "for day in range(num_days):\n",
    "    solver.Add(solver.AllDifferent([schedule[shift][day] for shift in range(num_shifts)]))"
   ]
  },
  {
   "cell_type": "markdown",
   "metadata": {},
   "source": [
    "How many days does nurse k work in shift i (k x i)"
   ]
  },
  {
   "cell_type": "code",
   "execution_count": 70,
   "metadata": {},
   "outputs": [],
   "source": [
    "days = []\n",
    "for nurse in range(num_nurses):\n",
    "    days.append([])\n",
    "    for shift in range(num_shifts):\n",
    "        days[nurse].extend([solver.Sum([solver.IsEqualCstVar(schedule[shift][day], nurse) for day in range(num_days)])])"
   ]
  },
  {
   "cell_type": "markdown",
   "metadata": {},
   "source": [
    "Each nurse has one or two days off"
   ]
  },
  {
   "cell_type": "code",
   "execution_count": 71,
   "metadata": {},
   "outputs": [],
   "source": [
    "for nurse in range(num_nurses):\n",
    "    solver.Add(solver.BetweenCt(days[nurse][0], 1, 2))\n",
    "\n",
    "# Alternative implementation without additional API elements\n",
    "#for nurse in range(num_nurses):\n",
    "#    solver.Add(days[nurse][0] > 0);\n",
    "#    solver.Add(days[nurse][0] < 3);"
   ]
  },
  {
   "cell_type": "markdown",
   "metadata": {},
   "source": [
    "Each shift is staffed by two different nurses in a week (holiday does not count as shift)"
   ]
  },
  {
   "cell_type": "code",
   "execution_count": 72,
   "metadata": {},
   "outputs": [],
   "source": [
    "for shift in range(1, num_shifts):\n",
    "    count = [days[nurse][shift] > 0 for nurse in range(num_nurses)]\n",
    "    solver.Add(solver.Sum(count) <= 2)"
   ]
  },
  {
   "cell_type": "markdown",
   "metadata": {},
   "source": [
    "If a nurse works shifts 2 or 3 on a given day, must work the same shift either the previous day or the day after"
   ]
  },
  {
   "cell_type": "code",
   "execution_count": 73,
   "metadata": {},
   "outputs": [],
   "source": [
    "# This is not gonna win a best coding style award. \n",
    "# However, it is much more important to us that stuidents understand the model rather than writing compact code.\n",
    "# Exercise: you may want to try packing this into a loop\n",
    "        \n",
    "solver.Add(solver.Max(schedule[2][0] == schedule[2][1], schedule[2][1] == schedule[2][2]) == 1)\n",
    "solver.Add(solver.Max(schedule[2][1] == schedule[2][2], schedule[2][2] == schedule[2][3]) == 1)\n",
    "solver.Add(solver.Max(schedule[2][2] == schedule[2][3], schedule[2][3] == schedule[2][4]) == 1)\n",
    "solver.Add(solver.Max(schedule[2][3] == schedule[2][4], schedule[2][4] == schedule[2][5]) == 1)\n",
    "solver.Add(solver.Max(schedule[2][4] == schedule[2][5], schedule[2][5] == schedule[2][6]) == 1)\n",
    "solver.Add(solver.Max(schedule[2][5] == schedule[2][6], schedule[2][6] == schedule[2][0]) == 1)\n",
    "solver.Add(solver.Max(schedule[2][6] == schedule[2][0], schedule[2][0] == schedule[2][1]) == 1)\n",
    "\n",
    "solver.Add(solver.Max(schedule[3][0] == schedule[3][1], schedule[3][1] == schedule[3][2]) == 1)\n",
    "solver.Add(solver.Max(schedule[3][1] == schedule[3][2], schedule[3][2] == schedule[3][3]) == 1)\n",
    "solver.Add(solver.Max(schedule[3][2] == schedule[3][3], schedule[3][3] == schedule[3][4]) == 1)\n",
    "solver.Add(solver.Max(schedule[3][3] == schedule[3][4], schedule[3][4] == schedule[3][5]) == 1)\n",
    "solver.Add(solver.Max(schedule[3][4] == schedule[3][5], schedule[3][5] == schedule[3][6]) == 1)\n",
    "solver.Add(solver.Max(schedule[3][5] == schedule[3][6], schedule[3][6] == schedule[3][0]) == 1)\n",
    "solver.Add(solver.Max(schedule[3][6] == schedule[3][0], schedule[3][0] == schedule[3][1]) == 1)"
   ]
  },
  {
   "cell_type": "markdown",
   "metadata": {},
   "source": [
    "Configure solver"
   ]
  },
  {
   "cell_type": "code",
   "execution_count": 74,
   "metadata": {},
   "outputs": [],
   "source": [
    "db = solver.Phase([schedule[i][j] for i, j in schedule_indices], solver.INT_VAR_SIMPLE, solver.INT_VALUE_SIMPLE)"
   ]
  },
  {
   "cell_type": "markdown",
   "metadata": {},
   "source": [
    "Start solver"
   ]
  },
  {
   "cell_type": "code",
   "execution_count": 75,
   "metadata": {
    "scrolled": false
   },
   "outputs": [],
   "source": [
    "solver.NewSearch(db)\n",
    "while solver.NextSolution():\n",
    "    # This creates a hell lot of printing\n",
    "    # pretty_print(schedule)\n",
    "    ;"
   ]
  },
  {
   "cell_type": "markdown",
   "metadata": {},
   "source": [
    "Cleanup"
   ]
  },
  {
   "cell_type": "code",
   "execution_count": 76,
   "metadata": {},
   "outputs": [],
   "source": [
    "solver.EndSearch()"
   ]
  },
  {
   "cell_type": "markdown",
   "metadata": {},
   "source": [
    "Print solver information"
   ]
  },
  {
   "cell_type": "code",
   "execution_count": 77,
   "metadata": {},
   "outputs": [
    {
     "name": "stdout",
     "output_type": "stream",
     "text": [
      "Solutions: 18144\n",
      "Runtime:   3067ms\n",
      "Failures:  339120\n",
      "Branches:  714526 \n"
     ]
    }
   ],
   "source": [
    "print(\"Solutions: {}\".format(solver.Solutions()))\n",
    "print(\"Runtime:   {}ms\".format(solver.WallTime()))\n",
    "print(\"Failures:  {}\".format(solver.Failures()))\n",
    "print(\"Branches:  {} \".format(solver.Branches()))"
   ]
  }
 ],
 "metadata": {
  "jupytext": {
   "cell_metadata_filter": "-all",
   "main_language": "python",
   "notebook_metadata_filter": "-all",
   "text_representation": {
    "extension": ".py",
    "format_name": "percent"
   }
  },
  "kernelspec": {
   "display_name": "Python 3",
   "language": "python",
   "name": "python3"
  },
  "language_info": {
   "codemirror_mode": {
    "name": "ipython",
    "version": 3
   },
   "file_extension": ".py",
   "mimetype": "text/x-python",
   "name": "python",
   "nbconvert_exporter": "python",
   "pygments_lexer": "ipython3",
   "version": "3.6.6"
  }
 },
 "nbformat": 4,
 "nbformat_minor": 2
}
