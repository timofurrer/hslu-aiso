{
 "cells": [
  {
   "cell_type": "markdown",
   "metadata": {},
   "source": [
    "# Sudoku Example"
   ]
  },
  {
   "cell_type": "markdown",
   "metadata": {},
   "source": [
    "Lucerne University of Applied Sciences and Arts - School of Information Technology\n",
    "\n",
    "Fill in numbers from 1 to 9 so that each row, column and 3x3 block contains each number exactly once.\n",
    "\n",
    "@author: Tobias Mérinat"
   ]
  },
  {
   "cell_type": "markdown",
   "metadata": {},
   "source": [
    "Imports"
   ]
  },
  {
   "cell_type": "code",
   "execution_count": 15,
   "metadata": {
    "lines_to_next_cell": 1
   },
   "outputs": [],
   "source": [
    "from ortools.constraint_solver import pywrapcp\n",
    "from itertools import product"
   ]
  },
  {
   "cell_type": "markdown",
   "metadata": {},
   "source": [
    "Pretty-print square sudoku board"
   ]
  },
  {
   "cell_type": "code",
   "execution_count": 16,
   "metadata": {
    "lines_to_next_cell": 1
   },
   "outputs": [],
   "source": [
    "def pretty_print(board):\n",
    "    for i in range(len(board)):\n",
    "        for j in range(len(board)):\n",
    "            print(\"[{}] \".format(board[i][j].Value()), end='')\n",
    "        print(\"\\n\")\n",
    "    print(\"\\n\\n\")"
   ]
  },
  {
   "cell_type": "markdown",
   "metadata": {},
   "source": [
    "Sudoku puzzles from newspapers. Get more from [here](https://sudoku.tagesspiegel.de/sudoku-sehr-schwer/)"
   ]
  },
  {
   "cell_type": "code",
   "execution_count": 17,
   "metadata": {},
   "outputs": [],
   "source": [
    "sudoku1 = [\n",
    "    [\"1\", \"\", \"\", \"\", \"3\", \"\", \"\", \"8\", \"\"],\n",
    "    [\"\", \"6\", \"\", \"4\", \"\", \"\", \"\", \"\", \"\"],\n",
    "    [\"\", \"\", \"4\", \"\", \"\", \"9\", \"3\", \"\", \"\"],\n",
    "    [\"\", \"4\", \"5\", \"\", \"\", \"6\", \"\", \"\", \"7\"],\n",
    "    [\"9\", \"\", \"\", \"\", \"\", \"5\", \"\", \"\", \"\"],\n",
    "    [\"\", \"\", \"8\", \"\", \"\", \"3\", \"\", \"2\", \"\"],\n",
    "    [\"\", \"\", \"\", \"\", \"\", \"\", \"9\", \"5\", \"6\"],\n",
    "    [\"\", \"2\", \"\", \"\", \"\", \"\", \"\", \"\", \"\"],\n",
    "    [\"\", \"\", \"7\", \"\", \"\", \"8\", \"\", \"1\", \"\"]\n",
    "]\n",
    "sudoku2 = [\n",
    "    [\"4\", \"\", \"8\", \"\", \"\", \"\", \"\", \"\", \"\"],\n",
    "    [\"\", \"\", \"\", \"1\", \"7\", \"\", \"\", \"\", \"\"],\n",
    "    [\"\", \"\", \"\", \"\", \"8\", \"\", \"\", \"3\", \"2\"],\n",
    "    [\"\", \"\", \"6\", \"\", \"\", \"8\", \"2\", \"5\", \"\"],\n",
    "    [\"\", \"9\", \"\", \"\", \"\", \"\", \"\", \"8\", \"\"],\n",
    "    [\"\", \"3\", \"7\", \"6\", \"\", \"\", \"9\", \"\", \"\"],\n",
    "    [\"2\", \"7\", \"\", \"\", \"5\", \"\", \"\", \"\", \"\"],\n",
    "    [\"\", \"\", \"\", \"\", \"1\", \"4\", \"\", \"\", \"\"],\n",
    "    [\"\", \"\", \"\", \"\", \"\", \"\", \"6\", \"\", \"4\"]\n",
    "]\n",
    "sudoku3 = [\n",
    "    [\"8\", \"\", \"\", \"3\", \"\", \"2\", \"\", \"\", \"7\"],\n",
    "    [\"\", \"4\", \"\", \"\", \"6\", \"\", \"\", \"9\", \"\"],\n",
    "    [\"\", \"\", \"5\", \"\", \"\", \"\", \"6\", \"\", \"\"],\n",
    "    [\"1\", \"\", \"\", \"6\", \"\", \"8\", \"\", \"\", \"5\"],\n",
    "    [\"\", \"3\", \"\", \"\", \"2\", \"\", \"\", \"1\", \"\"],\n",
    "    [\"4\", \"\", \"\", \"7\", \"\", \"3\", \"\", \"\", \"6\"],\n",
    "    [\"\", \"\", \"6\", \"\", \"\", \"\", \"8\", \"\", \"\"],\n",
    "    [\"\", \"2\", \"\", \"\", \"3\", \"\", \"\", \"6\", \"\"],\n",
    "    [\"5\", \"\", \"\", \"2\", \"\", \"6\", \"\", \"\", \"1\"]\n",
    "]\n",
    "sudoku4 = [\n",
    "    [\"\", \"\", \"6\", \"1\", \"\", \"\", \"\", \"\", \"8\"],\n",
    "    [\"\", \"7\", \"\", \"\", \"9\", \"\", \"\", \"2\", \"\"],\n",
    "    [\"3\", \"\", \"\", \"\", \"\", \"6\", \"9\", \"\", \"\"],\n",
    "    [\"6\", \"\", \"\", \"\", \"\", \"2\", \"3\", \"\", \"\"],\n",
    "    [\"\", \"8\", \"\", \"\", \"4\", \"\", \"\", \"1\", \"\"],\n",
    "    [\"\", \"\", \"4\", \"3\", \"\", \"\", \"\", \"\", \"9\"],\n",
    "    [\"\", \"\", \"9\", \"2\", \"\", \"\", \"\", \"\", \"4\"],\n",
    "    [\"\", \"5\", \"\", \"\", \"7\", \"\", \"\", \"8\", \"\"],\n",
    "    [\"8\", \"\", \"\", \"\", \"\", \"5\", \"1\", \"\", \"\"]\n",
    "]"
   ]
  },
  {
   "cell_type": "markdown",
   "metadata": {},
   "source": [
    "Pick one"
   ]
  },
  {
   "cell_type": "code",
   "execution_count": 18,
   "metadata": {},
   "outputs": [],
   "source": [
    "game = sudoku1"
   ]
  },
  {
   "cell_type": "markdown",
   "metadata": {},
   "source": [
    "Create constraint solver"
   ]
  },
  {
   "cell_type": "code",
   "execution_count": 19,
   "metadata": {},
   "outputs": [],
   "source": [
    "solver = pywrapcp.Solver(\"Sudoku\")"
   ]
  },
  {
   "cell_type": "markdown",
   "metadata": {},
   "source": [
    "Board configuration (should match game)"
   ]
  },
  {
   "cell_type": "code",
   "execution_count": 20,
   "metadata": {},
   "outputs": [],
   "source": [
    "cell_size = 3\n",
    "board_size = cell_size * cell_size\n",
    "board_indices = list(product(range(board_size), repeat=2))  # tuples (i, j) for all board indices\n",
    "cell_indices = list(product(range(cell_size), repeat=2))  # tuples (i, j) for all cell indices"
   ]
  },
  {
   "cell_type": "markdown",
   "metadata": {},
   "source": [
    "Board as nxn matrix of decision variables with value in {1..9]"
   ]
  },
  {
   "cell_type": "code",
   "execution_count": 21,
   "metadata": {},
   "outputs": [],
   "source": [
    "board = [[solver.IntVar(1, board_size) for _j in range(board_size)] for _i in range(board_size)]"
   ]
  },
  {
   "cell_type": "markdown",
   "metadata": {},
   "source": [
    "Pre-Assignments"
   ]
  },
  {
   "cell_type": "code",
   "execution_count": 22,
   "metadata": {},
   "outputs": [],
   "source": [
    "for i, j in board_indices:\n",
    "    if len(game[i][j]) > 0:  # elements are strings, so check for length\n",
    "        solver.Add(board[i][j] == int(game[i][j]))"
   ]
  },
  {
   "cell_type": "markdown",
   "metadata": {},
   "source": [
    "Each row and each column contains only different values"
   ]
  },
  {
   "cell_type": "code",
   "execution_count": 23,
   "metadata": {},
   "outputs": [],
   "source": [
    "for i in range(board_size):\n",
    "    solver.Add(solver.AllDifferent([board[i][j] for j in range(board_size)]))  # Rows\n",
    "    solver.Add(solver.AllDifferent([board[j][i] for j in range(board_size)]))  # Columns"
   ]
  },
  {
   "cell_type": "markdown",
   "metadata": {},
   "source": [
    "Each 3x3 sub-matrix contains only different values"
   ]
  },
  {
   "cell_type": "code",
   "execution_count": 24,
   "metadata": {},
   "outputs": [],
   "source": [
    "for i, j in cell_indices:\n",
    "    solver.Add(solver.AllDifferent(\n",
    "        [board[i * cell_size + di][j * cell_size + dj] for di in range(cell_size) for dj in range(cell_size)]))"
   ]
  },
  {
   "cell_type": "markdown",
   "metadata": {},
   "source": [
    "Configure solver"
   ]
  },
  {
   "cell_type": "code",
   "execution_count": 25,
   "metadata": {},
   "outputs": [],
   "source": [
    "db = solver.Phase([board[i][j] for i, j in board_indices], solver.INT_VAR_SIMPLE, solver.INT_VALUE_SIMPLE)"
   ]
  },
  {
   "cell_type": "markdown",
   "metadata": {},
   "source": [
    "Start solver"
   ]
  },
  {
   "cell_type": "code",
   "execution_count": 26,
   "metadata": {},
   "outputs": [
    {
     "name": "stdout",
     "output_type": "stream",
     "text": [
      "[1] [5] [9] [6] [3] [2] [7] [8] [4] \n",
      "\n",
      "[3] [6] [2] [4] [8] [7] [1] [9] [5] \n",
      "\n",
      "[7] [8] [4] [1] [5] [9] [3] [6] [2] \n",
      "\n",
      "[2] [4] [5] [9] [1] [6] [8] [3] [7] \n",
      "\n",
      "[9] [7] [3] [8] [2] [5] [6] [4] [1] \n",
      "\n",
      "[6] [1] [8] [7] [4] [3] [5] [2] [9] \n",
      "\n",
      "[8] [3] [1] [2] [7] [4] [9] [5] [6] \n",
      "\n",
      "[5] [2] [6] [3] [9] [1] [4] [7] [8] \n",
      "\n",
      "[4] [9] [7] [5] [6] [8] [2] [1] [3] \n",
      "\n",
      "\n",
      "\n",
      "\n"
     ]
    }
   ],
   "source": [
    "solver.NewSearch(db)\n",
    "while solver.NextSolution():\n",
    "    pretty_print(board)"
   ]
  },
  {
   "cell_type": "markdown",
   "metadata": {},
   "source": [
    "Cleanup"
   ]
  },
  {
   "cell_type": "code",
   "execution_count": 27,
   "metadata": {},
   "outputs": [],
   "source": [
    "solver.EndSearch()"
   ]
  },
  {
   "cell_type": "markdown",
   "metadata": {},
   "source": [
    "Print solver information"
   ]
  },
  {
   "cell_type": "code",
   "execution_count": 28,
   "metadata": {},
   "outputs": [
    {
     "name": "stdout",
     "output_type": "stream",
     "text": [
      "Solutions: 1\n",
      "Runtime:   50ms\n",
      "Failures:  13\n",
      "Branches:  26 \n"
     ]
    }
   ],
   "source": [
    "print(\"Solutions: {}\".format(solver.Solutions()))\n",
    "print(\"Runtime:   {}ms\".format(solver.WallTime()))\n",
    "print(\"Failures:  {}\".format(solver.Failures()))\n",
    "print(\"Branches:  {} \".format(solver.Branches()))"
   ]
  }
 ],
 "metadata": {
  "jupytext": {
   "cell_metadata_filter": "-all",
   "main_language": "python",
   "notebook_metadata_filter": "-all",
   "text_representation": {
    "extension": ".py",
    "format_name": "percent"
   }
  },
  "kernelspec": {
   "display_name": "Python 3",
   "language": "python",
   "name": "python3"
  },
  "language_info": {
   "codemirror_mode": {
    "name": "ipython",
    "version": 3
   },
   "file_extension": ".py",
   "mimetype": "text/x-python",
   "name": "python",
   "nbconvert_exporter": "python",
   "pygments_lexer": "ipython3",
   "version": "3.6.6"
  }
 },
 "nbformat": 4,
 "nbformat_minor": 2
}
