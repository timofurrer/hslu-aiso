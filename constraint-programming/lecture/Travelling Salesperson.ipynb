{
 "cells": [
  {
   "cell_type": "markdown",
   "metadata": {},
   "source": [
    "# Travelling Salesperson Problems"
   ]
  },
  {
   "cell_type": "markdown",
   "metadata": {},
   "source": [
    "Lucerne University of Applied Sciences and Arts - School of Information Technology"
   ]
  },
  {
   "cell_type": "markdown",
   "metadata": {},
   "source": [
    "Code adapted from https://developers.google.com/optimization/routing/tsp/tsp\n",
    "\n",
    "@author: Tobias Mérinat\n",
    "@author: Marc Pouly"
   ]
  },
  {
   "cell_type": "markdown",
   "metadata": {},
   "source": [
    "Imports"
   ]
  },
  {
   "cell_type": "code",
   "execution_count": 102,
   "metadata": {},
   "outputs": [],
   "source": [
    "from ortools.constraint_solver import pywrapcp, routing_enums_pb2\n",
    "from tsp_examples import small, large, gps, randomly, drilling, manhattan"
   ]
  },
  {
   "cell_type": "markdown",
   "metadata": {},
   "source": [
    "# A very simple Example"
   ]
  },
  {
   "cell_type": "code",
   "execution_count": 103,
   "metadata": {},
   "outputs": [
    {
     "name": "stdout",
     "output_type": "stream",
     "text": [
      "Total distance: 5000 miles\n",
      " - Vehicle 1 travels ['New York', 'Chicago', 'Los Angeles', 'Salt Lake City']\n"
     ]
    }
   ],
   "source": [
    "depot_index  = 0\n",
    "num_vehicles = 1\n",
    "\n",
    "city_names = [\"New York\", \"Los Angeles\", \"Chicago\", \"Salt Lake City\"]\n",
    "                    \n",
    "nodes = [\n",
    "    [0, 2451, 713, 1018],   # New York\n",
    "    [2451, 0, 1745, 1524],  # Los Angeles\n",
    "    [713, 1745, 0, 355],    # Chicago\n",
    "    [1018, 1524, 355, 0]]   # Salt Lake City)\n",
    "\n",
    "def distance(a, b):\n",
    "    return nodes[a][b]\n",
    "\n",
    "routing = pywrapcp.RoutingModel(len(city_names), num_vehicles, depot_index)\n",
    "\n",
    "routing.SetArcCostEvaluatorOfAllVehicles(distance)\n",
    "\n",
    "assignment = routing.Solve()\n",
    "\n",
    "if assignment:\n",
    "    # Print objective, i.e. minimized total distance\n",
    "    print('Total distance: {} miles'.format(assignment.ObjectiveValue()))\n",
    "    \n",
    "    # For each vehicle ...\n",
    "    for vehicle_num in range(routing.vehicles()):\n",
    "        result = []\n",
    "        # Determine start index of the current vehicle\n",
    "        index = routing.Start(vehicle_num)  \n",
    "        while not routing.IsEnd(index):\n",
    "            # Convert index to node and add to result\n",
    "            result.append(city_names[routing.IndexToNode(index)])\n",
    "            # Determine index of the next location\n",
    "            index = assignment.Value(routing.NextVar(index))\n",
    "        print(' - Vehicle {} travels {}'.format(vehicle_num + 1, result))\n",
    "else:\n",
    "    print('No solution found.')"
   ]
  },
  {
   "cell_type": "markdown",
   "metadata": {},
   "source": [
    "# Larger and more complex Examples"
   ]
  },
  {
   "cell_type": "markdown",
   "metadata": {},
   "source": [
    "Choose example"
   ]
  },
  {
   "cell_type": "code",
   "execution_count": 104,
   "metadata": {},
   "outputs": [],
   "source": [
    "example = small # small refers to the same example as above"
   ]
  },
  {
   "cell_type": "markdown",
   "metadata": {},
   "source": [
    "Assign values"
   ]
  },
  {
   "cell_type": "code",
   "execution_count": 105,
   "metadata": {},
   "outputs": [],
   "source": [
    "city_names   = example.names\n",
    "distance     = example.distance\n",
    "num_cities   = example.num_cities\n",
    "num_vehicles = example.num_vehicles\n",
    "depot_index  = example.depot_index  \n",
    "\n",
    "# Nodes are indexed from 0 to tsp_size - 1. The depot is the starting node of the route."
   ]
  },
  {
   "cell_type": "markdown",
   "metadata": {},
   "source": [
    "Create routing model"
   ]
  },
  {
   "cell_type": "code",
   "execution_count": 106,
   "metadata": {},
   "outputs": [],
   "source": [
    "routing = pywrapcp.RoutingModel(num_cities, num_vehicles, depot_index)"
   ]
  },
  {
   "cell_type": "markdown",
   "metadata": {},
   "source": [
    "All vehicles use the same cost model"
   ]
  },
  {
   "cell_type": "code",
   "execution_count": 107,
   "metadata": {},
   "outputs": [],
   "source": [
    "routing.SetArcCostEvaluatorOfAllVehicles(distance)"
   ]
  },
  {
   "cell_type": "markdown",
   "metadata": {},
   "source": [
    "#### Some additional constraints\n",
    "Do not forget to switch to the large example and increase number of vehicles when necessary."
   ]
  },
  {
   "cell_type": "markdown",
   "metadata": {},
   "source": [
    "A vehicle must not visit more than 7 cities"
   ]
  },
  {
   "cell_type": "code",
   "execution_count": 108,
   "metadata": {},
   "outputs": [],
   "source": [
    "#routing.AddConstantDimension(1, 7, True, \"count\")"
   ]
  },
  {
   "cell_type": "markdown",
   "metadata": {},
   "source": [
    "A vehicle must visit at least 3 cities"
   ]
  },
  {
   "cell_type": "code",
   "execution_count": 109,
   "metadata": {},
   "outputs": [],
   "source": [
    "#routing.AddConstantDimension(1, num_cities, True, \"count\")\n",
    "#count = routing.GetDimensionOrDie(\"count\")\n",
    "#for i in range(num_vehicles):\n",
    "#    count.CumulVar(routing.End(i)).SetMin(3)"
   ]
  },
  {
   "cell_type": "markdown",
   "metadata": {},
   "source": [
    "City 2 and 4 (counting starts at 0) must NOT be visited by the same vehicle"
   ]
  },
  {
   "cell_type": "code",
   "execution_count": 110,
   "metadata": {},
   "outputs": [],
   "source": [
    "#routing.solver().Add(routing.VehicleVar(2) != routing.VehicleVar(4))"
   ]
  },
  {
   "cell_type": "markdown",
   "metadata": {},
   "source": [
    "City 2 must be visited before city 4 (not necessarily by the same vehicle)"
   ]
  },
  {
   "cell_type": "code",
   "execution_count": 111,
   "metadata": {},
   "outputs": [],
   "source": [
    "# routing.AddConstantDimension(1, num_cities, True, \"time\")\n",
    "# time = routing.GetDimensionOrDie(\"time\")\n",
    "# routing.solver().Add(time.CumulVar(2) < time.CumulVar(4))"
   ]
  },
  {
   "cell_type": "markdown",
   "metadata": {},
   "source": [
    "City 2 must be visited right after city 4 (not necessarily by the same vehicle)"
   ]
  },
  {
   "cell_type": "code",
   "execution_count": 112,
   "metadata": {},
   "outputs": [],
   "source": [
    "# routing.AddConstantDimension(1, num_cities, True, \"time\")\n",
    "# time = routing.GetDimensionOrDie(\"time\")\n",
    "# routing.solver().Add(time.CumulVar(4) + 1 == time.CumulVar(2))"
   ]
  },
  {
   "cell_type": "markdown",
   "metadata": {},
   "source": [
    "Configure solver"
   ]
  },
  {
   "cell_type": "code",
   "execution_count": 113,
   "metadata": {},
   "outputs": [],
   "source": [
    "parameters = pywrapcp.RoutingModel.DefaultSearchParameters()\n",
    "parameters.first_solution_strategy = (routing_enums_pb2.FirstSolutionStrategy.PATH_CHEAPEST_ARC)\n",
    "parameters.local_search_metaheuristic = (routing_enums_pb2.LocalSearchMetaheuristic.GUIDED_LOCAL_SEARCH)\n",
    "parameters.time_limit_ms = 10000"
   ]
  },
  {
   "cell_type": "markdown",
   "metadata": {},
   "source": [
    "Start solver"
   ]
  },
  {
   "cell_type": "code",
   "execution_count": 114,
   "metadata": {},
   "outputs": [],
   "source": [
    "assignment = routing.SolveWithParameters(parameters)"
   ]
  },
  {
   "cell_type": "markdown",
   "metadata": {},
   "source": [
    "Print solution"
   ]
  },
  {
   "cell_type": "code",
   "execution_count": 115,
   "metadata": {},
   "outputs": [
    {
     "name": "stdout",
     "output_type": "stream",
     "text": [
      "Total distance: 5000 miles\n",
      "\n",
      "Vehicle 1:\n",
      "  - New York -> Chicago\n",
      "  - Chicago -> Los Angeles\n",
      "  - Los Angeles -> Salt Lake City\n",
      "  - Salt Lake City -> New York\n",
      "\n"
     ]
    }
   ],
   "source": [
    "if assignment:\n",
    "    print('Total distance: {} miles\\n'.format(assignment.ObjectiveValue()))\n",
    "    for vehicle_num in range(routing.vehicles()):\n",
    "        print('Vehicle {}:'.format(vehicle_num+1))\n",
    "        route = \"\"\n",
    "        index = routing.Start(vehicle_num)  # index of the variable for the starting node\n",
    "        while not routing.IsEnd(index):\n",
    "            # Convert variable indices to node indices for displaying\n",
    "            route += '  - {} -> '.format((city_names[routing.IndexToNode(index)]))\n",
    "            index = assignment.Value(routing.NextVar(index))\n",
    "            route += '{}\\n'.format(city_names[routing.IndexToNode(index)])\n",
    "        print(route)\n",
    "else:\n",
    "    print('No solution found.')"
   ]
  },
  {
   "cell_type": "code",
   "execution_count": null,
   "metadata": {},
   "outputs": [],
   "source": []
  }
 ],
 "metadata": {
  "jupytext": {
   "cell_metadata_filter": "-all",
   "encoding": "# -*- coding: utf-8 -*-",
   "main_language": "python",
   "notebook_metadata_filter": "-all",
   "text_representation": {
    "extension": ".py",
    "format_name": "percent"
   }
  },
  "kernelspec": {
   "display_name": "Python 3",
   "language": "python",
   "name": "python3"
  },
  "language_info": {
   "codemirror_mode": {
    "name": "ipython",
    "version": 3
   },
   "file_extension": ".py",
   "mimetype": "text/x-python",
   "name": "python",
   "nbconvert_exporter": "python",
   "pygments_lexer": "ipython3",
   "version": "3.6.6"
  }
 },
 "nbformat": 4,
 "nbformat_minor": 2
}
