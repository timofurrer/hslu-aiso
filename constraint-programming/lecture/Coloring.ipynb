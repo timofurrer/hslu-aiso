{
 "cells": [
  {
   "cell_type": "markdown",
   "metadata": {},
   "source": [
    "# Graph Coloring Example aka. Frequency Assignment Example"
   ]
  },
  {
   "cell_type": "markdown",
   "metadata": {},
   "source": [
    "Lucerne University of Applied Sciences and Arts - School of Information Technology"
   ]
  },
  {
   "cell_type": "markdown",
   "metadata": {},
   "source": [
    "To send information from one cell to another in a cellular network, the transmission ranges of antennas must overlap.\n",
    "Neighboring antennas must use different frequencies in order to avoid interference problems. There is only a very\n",
    "limited number of frequencies available. Assign frequencies to antennas such that not two neighboring antennas use the same frequency (visualized as colour).\n",
    "\n",
    "@author: Tobias Mérinat"
   ]
  },
  {
   "cell_type": "markdown",
   "metadata": {},
   "source": [
    "Imports"
   ]
  },
  {
   "cell_type": "code",
   "execution_count": 2,
   "metadata": {},
   "outputs": [],
   "source": [
    "import networkx as nx\n",
    "import matplotlib.pyplot as plt\n",
    "\n",
    "from ortools.constraint_solver import pywrapcp\n",
    "\n",
    "%matplotlib inline"
   ]
  },
  {
   "cell_type": "markdown",
   "metadata": {},
   "source": [
    "#### The example from the lecture"
   ]
  },
  {
   "cell_type": "markdown",
   "metadata": {},
   "source": [
    "Undirected graph as list of edges"
   ]
  },
  {
   "cell_type": "code",
   "execution_count": 3,
   "metadata": {},
   "outputs": [],
   "source": [
    "graph = ((4, 1), (1, 0), (4, 0), (1, 3), (3, 0), (3, 2))"
   ]
  },
  {
   "cell_type": "markdown",
   "metadata": {},
   "source": [
    "Graph size as number of nodes"
   ]
  },
  {
   "cell_type": "code",
   "execution_count": 4,
   "metadata": {},
   "outputs": [],
   "source": [
    "# Programming exercise: replace this by determining size dynamically from edge list\n",
    "\n",
    "size = 5"
   ]
  },
  {
   "cell_type": "markdown",
   "metadata": {},
   "source": [
    "Frequencies / color names"
   ]
  },
  {
   "cell_type": "code",
   "execution_count": 5,
   "metadata": {},
   "outputs": [],
   "source": [
    "colors = (\"red\", \"blue\", \"green\", \"yellow\", \"orange\", \"black\", \"white\", \"purple\")"
   ]
  },
  {
   "cell_type": "markdown",
   "metadata": {},
   "source": [
    "Maximum number of allowed frequencies/colors"
   ]
  },
  {
   "cell_type": "code",
   "execution_count": 6,
   "metadata": {},
   "outputs": [],
   "source": [
    "max_colors=3"
   ]
  },
  {
   "cell_type": "markdown",
   "metadata": {},
   "source": [
    "#### First, solve color/frequency allocation with a given maximum number of colors"
   ]
  },
  {
   "cell_type": "markdown",
   "metadata": {},
   "source": [
    "Create constraint solver"
   ]
  },
  {
   "cell_type": "code",
   "execution_count": 7,
   "metadata": {},
   "outputs": [],
   "source": [
    "solver = pywrapcp.Solver(\"Graph Coloring\")"
   ]
  },
  {
   "cell_type": "markdown",
   "metadata": {},
   "source": [
    "Configure variables including constraint to use at most max_colors colors"
   ]
  },
  {
   "cell_type": "code",
   "execution_count": 8,
   "metadata": {},
   "outputs": [],
   "source": [
    "#k = len(colors)\n",
    "nodes = [solver.IntVar(0, max_colors - 1, str(i)) for i in range(size)]  # str(i) is the (optional) name of the var"
   ]
  },
  {
   "cell_type": "markdown",
   "metadata": {},
   "source": [
    "No neighboring nodes may have the same color"
   ]
  },
  {
   "cell_type": "code",
   "execution_count": 9,
   "metadata": {},
   "outputs": [],
   "source": [
    "for edge in graph:\n",
    "    solver.Add(nodes[edge[0]] != nodes[edge[1]])"
   ]
  },
  {
   "cell_type": "markdown",
   "metadata": {},
   "source": [
    "Some elementary symmetry breaking"
   ]
  },
  {
   "cell_type": "code",
   "execution_count": 10,
   "metadata": {},
   "outputs": [],
   "source": [
    "solver.Add(nodes[0] == 0)"
   ]
  },
  {
   "cell_type": "markdown",
   "metadata": {},
   "source": [
    "Configure solver"
   ]
  },
  {
   "cell_type": "code",
   "execution_count": 11,
   "metadata": {},
   "outputs": [],
   "source": [
    "db = solver.Phase(nodes, solver.INT_VAR_SIMPLE, solver.INT_VALUE_SIMPLE)"
   ]
  },
  {
   "cell_type": "markdown",
   "metadata": {},
   "source": [
    "Container for solutions (only needed for plotting)"
   ]
  },
  {
   "cell_type": "code",
   "execution_count": 12,
   "metadata": {},
   "outputs": [],
   "source": [
    "solutions = []"
   ]
  },
  {
   "cell_type": "markdown",
   "metadata": {},
   "source": [
    "Start solver"
   ]
  },
  {
   "cell_type": "code",
   "execution_count": 13,
   "metadata": {},
   "outputs": [
    {
     "name": "stdout",
     "output_type": "stream",
     "text": [
      "Node #0 has color red\n",
      "Node #1 has color blue\n",
      "Node #2 has color red\n",
      "Node #3 has color green\n",
      "Node #4 has color green\n",
      "\n",
      "\n",
      "Node #0 has color red\n",
      "Node #1 has color blue\n",
      "Node #2 has color blue\n",
      "Node #3 has color green\n",
      "Node #4 has color green\n",
      "\n",
      "\n",
      "Node #0 has color red\n",
      "Node #1 has color green\n",
      "Node #2 has color red\n",
      "Node #3 has color blue\n",
      "Node #4 has color blue\n",
      "\n",
      "\n",
      "Node #0 has color red\n",
      "Node #1 has color green\n",
      "Node #2 has color green\n",
      "Node #3 has color blue\n",
      "Node #4 has color blue\n",
      "\n",
      "\n"
     ]
    }
   ],
   "source": [
    "solver.NewSearch(db)\n",
    "while solver.NextSolution():\n",
    "    for node in nodes:\n",
    "        print(\"Node #{} has color {}\".format(node.Name(), colors[node.Value()]))\n",
    "    print(\"\\n\")\n",
    "    solutions.append([n.Value() for n in nodes])"
   ]
  },
  {
   "cell_type": "markdown",
   "metadata": {},
   "source": [
    "Cleanup"
   ]
  },
  {
   "cell_type": "code",
   "execution_count": 14,
   "metadata": {},
   "outputs": [],
   "source": [
    "solver.EndSearch()"
   ]
  },
  {
   "cell_type": "markdown",
   "metadata": {},
   "source": [
    "Print solver information"
   ]
  },
  {
   "cell_type": "code",
   "execution_count": 15,
   "metadata": {},
   "outputs": [
    {
     "name": "stdout",
     "output_type": "stream",
     "text": [
      "Solutions: 4\n",
      "Runtime:   36ms\n",
      "Failures:  0\n",
      "Branches:  6 \n"
     ]
    }
   ],
   "source": [
    "print(\"Solutions: {}\".format(solver.Solutions()))\n",
    "print(\"Runtime:   {}ms\".format(solver.WallTime()))\n",
    "print(\"Failures:  {}\".format(solver.Failures()))\n",
    "print(\"Branches:  {} \".format(solver.Branches()))"
   ]
  },
  {
   "cell_type": "markdown",
   "metadata": {},
   "source": [
    "Optionally: draw the last solution (needs \"pip install matplotlib networkx\")"
   ]
  },
  {
   "cell_type": "code",
   "execution_count": 16,
   "metadata": {},
   "outputs": [
    {
     "name": "stderr",
     "output_type": "stream",
     "text": [
      "/Users/tapouly/anaconda3/lib/python3.6/site-packages/networkx/drawing/nx_pylab.py:611: MatplotlibDeprecationWarning: isinstance(..., numbers.Number)\n",
      "  if cb.is_numlike(alpha):\n"
     ]
    },
    {
     "data": {
      "image/png": "[encoded data removed]",
      "text/plain": [
       "<Figure size 432x288 with 1 Axes>"
      ]
     },
     "metadata": {
      "needs_background": "light"
     },
     "output_type": "display_data"
    }
   ],
   "source": [
    "G = nx.Graph()\n",
    "G.add_nodes_from(range(size))\n",
    "G.add_edges_from(graph)\n",
    "nx.draw_networkx(G, with_labels=True, font_weight='bold', node_color=[colors[i] for i in solutions[-1]])\n",
    "plt.show()"
   ]
  },
  {
   "cell_type": "markdown",
   "metadata": {},
   "source": [
    "#### Next, solve color/frequency allocation by optimization"
   ]
  },
  {
   "cell_type": "markdown",
   "metadata": {},
   "source": [
    "Create constraint solver"
   ]
  },
  {
   "cell_type": "code",
   "execution_count": 17,
   "metadata": {},
   "outputs": [],
   "source": [
    "solver = pywrapcp.Solver(\"Graph Coloring\")"
   ]
  },
  {
   "cell_type": "markdown",
   "metadata": {},
   "source": [
    "DIFFERENT: Configure variables (without constraint to use at most max_colors colors)"
   ]
  },
  {
   "cell_type": "code",
   "execution_count": 18,
   "metadata": {},
   "outputs": [],
   "source": [
    "k = len(colors)\n",
    "nodes = [solver.IntVar(0, k-1, str(i)) for i in range(size)]  # str(i) is the (optional) name of the var"
   ]
  },
  {
   "cell_type": "markdown",
   "metadata": {},
   "source": [
    "No neighboring nodes may have the same color"
   ]
  },
  {
   "cell_type": "code",
   "execution_count": 19,
   "metadata": {},
   "outputs": [],
   "source": [
    "for edge in graph:\n",
    "    solver.Add(nodes[edge[0]] != nodes[edge[1]])"
   ]
  },
  {
   "cell_type": "markdown",
   "metadata": {},
   "source": [
    "ADDED: objective (minimize the number of colors)"
   ]
  },
  {
   "cell_type": "code",
   "execution_count": 20,
   "metadata": {},
   "outputs": [],
   "source": [
    "objective = solver.Minimize(solver.Max(nodes).Var(), 1)  # 1 is the step size"
   ]
  },
  {
   "cell_type": "markdown",
   "metadata": {},
   "source": [
    "Some elementary symmetry breaking"
   ]
  },
  {
   "cell_type": "code",
   "execution_count": 21,
   "metadata": {},
   "outputs": [],
   "source": [
    "solver.Add(nodes[0] == 0)"
   ]
  },
  {
   "cell_type": "markdown",
   "metadata": {},
   "source": [
    "Configure solver"
   ]
  },
  {
   "cell_type": "code",
   "execution_count": 22,
   "metadata": {},
   "outputs": [],
   "source": [
    "db = solver.Phase(nodes, solver.INT_VAR_SIMPLE, solver.INT_VALUE_SIMPLE)"
   ]
  },
  {
   "cell_type": "markdown",
   "metadata": {},
   "source": [
    "Container for solutions (only needed for plotting)"
   ]
  },
  {
   "cell_type": "code",
   "execution_count": 23,
   "metadata": {},
   "outputs": [],
   "source": [
    "solutions = []"
   ]
  },
  {
   "cell_type": "markdown",
   "metadata": {},
   "source": [
    "DIFFERENT: Start solver and add objective to search"
   ]
  },
  {
   "cell_type": "code",
   "execution_count": 24,
   "metadata": {},
   "outputs": [
    {
     "name": "stdout",
     "output_type": "stream",
     "text": [
      "Coloring with 3 colors:\n",
      "Node #0 has color red\n",
      "Node #1 has color blue\n",
      "Node #2 has color red\n",
      "Node #3 has color green\n",
      "Node #4 has color green\n",
      "\n",
      "\n"
     ]
    }
   ],
   "source": [
    "solver.NewSearch(db, objective)\n",
    "while solver.NextSolution():\n",
    "    print(\"Coloring with {} colors:\".format(objective.Var().Value() + 1))\n",
    "    for node in nodes:\n",
    "        print(\"Node #{} has color {}\".format(node.Name(), colors[node.Value()]))\n",
    "    print(\"\\n\")\n",
    "    solutions.append([n.Value() for n in nodes])"
   ]
  },
  {
   "cell_type": "markdown",
   "metadata": {},
   "source": [
    "Cleanup"
   ]
  },
  {
   "cell_type": "code",
   "execution_count": 25,
   "metadata": {},
   "outputs": [],
   "source": [
    "solver.EndSearch()"
   ]
  },
  {
   "cell_type": "markdown",
   "metadata": {},
   "source": [
    "Print solver information"
   ]
  },
  {
   "cell_type": "code",
   "execution_count": 26,
   "metadata": {},
   "outputs": [
    {
     "name": "stdout",
     "output_type": "stream",
     "text": [
      "Solutions: 1\n",
      "Runtime:   47ms\n",
      "Failures:  4\n",
      "Branches:  4 \n"
     ]
    }
   ],
   "source": [
    "print(\"Solutions: {}\".format(solver.Solutions()))\n",
    "print(\"Runtime:   {}ms\".format(solver.WallTime()))\n",
    "print(\"Failures:  {}\".format(solver.Failures()))\n",
    "print(\"Branches:  {} \".format(solver.Branches()))"
   ]
  },
  {
   "cell_type": "markdown",
   "metadata": {},
   "source": [
    "Optionally: draw the last solution (needs \"pip install matplotlib networkx\")"
   ]
  },
  {
   "cell_type": "code",
   "execution_count": 27,
   "metadata": {},
   "outputs": [
    {
     "name": "stderr",
     "output_type": "stream",
     "text": [
      "/Users/tapouly/anaconda3/lib/python3.6/site-packages/networkx/drawing/nx_pylab.py:611: MatplotlibDeprecationWarning: isinstance(..., numbers.Number)\n",
      "  if cb.is_numlike(alpha):\n"
     ]
    },
    {
     "data": {
      "image/png": "[encoded data removed]",
      "text/plain": [
       "<Figure size 432x288 with 1 Axes>"
      ]
     },
     "metadata": {
      "needs_background": "light"
     },
     "output_type": "display_data"
    }
   ],
   "source": [
    "G = nx.Graph()\n",
    "G.add_nodes_from(range(size))\n",
    "G.add_edges_from(graph)\n",
    "nx.draw_networkx(G, with_labels=True, font_weight='bold', node_color=[colors[i] for i in solutions[-1]])\n",
    "plt.show()"
   ]
  },
  {
   "cell_type": "markdown",
   "metadata": {},
   "source": [
    "# An even simpler Optimization Problem\n",
    "\n",
    "This example demonstrates step-wise optimization. Experiment with the step size.\n",
    "Remember: an assignment of values to variables is called solution, if it fulfills all hard constraints.\n",
    "Among all solutions, an optimal one is being search."
   ]
  },
  {
   "cell_type": "code",
   "execution_count": 28,
   "metadata": {},
   "outputs": [
    {
     "name": "stdout",
     "output_type": "stream",
     "text": [
      "1\n",
      "3\n",
      "5\n",
      "7\n",
      "9\n",
      "11\n",
      "13\n",
      "15\n",
      "17\n"
     ]
    }
   ],
   "source": [
    "var = solver.IntVar(0, 20)\n",
    "\n",
    "solver.Add(var < 18)\n",
    "solver.Add(var > 0)\n",
    "\n",
    "step_size = 2\n",
    "objective = solver.Maximize(var, step_size)\n",
    "\n",
    "db = solver.Phase([var], solver.INT_VAR_SIMPLE, solver.INT_VALUE_SIMPLE)\n",
    "\n",
    "solver.NewSearch(db, objective)\n",
    "while solver.NextSolution():\n",
    "    print(var.Value())\n"
   ]
  },
  {
   "cell_type": "code",
   "execution_count": null,
   "metadata": {},
   "outputs": [],
   "source": []
  }
 ],
 "metadata": {
  "jupytext": {
   "cell_metadata_filter": "-all",
   "main_language": "python",
   "notebook_metadata_filter": "-all",
   "text_representation": {
    "extension": ".py",
    "format_name": "percent"
   }
  },
  "kernelspec": {
   "display_name": "Python 3",
   "language": "python",
   "name": "python3"
  },
  "language_info": {
   "codemirror_mode": {
    "name": "ipython",
    "version": 3
   },
   "file_extension": ".py",
   "mimetype": "text/x-python",
   "name": "python",
   "nbconvert_exporter": "python",
   "pygments_lexer": "ipython3",
   "version": "3.6.6"
  }
 },
 "nbformat": 4,
 "nbformat_minor": 2
}
