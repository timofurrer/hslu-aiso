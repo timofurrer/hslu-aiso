{
 "cells": [
  {
   "cell_type": "markdown",
   "metadata": {},
   "source": [
    "# Minesweeper Puzzle"
   ]
  },
  {
   "cell_type": "markdown",
   "metadata": {},
   "source": [
    "The player is presented with a grid of squares. Some randomly selected squares, unknown to the player, contain mines. Other squares may display numbers indicating the count of mines present in the immediate neighborhood of the squares. Find all mines. \n",
    "\n",
    "See https://de.wikipedia.org/wiki/Minesweeper or go to http://minesweeperonline.com/ to play"
   ]
  },
  {
   "cell_type": "markdown",
   "metadata": {},
   "source": [
    "Imports"
   ]
  },
  {
   "cell_type": "code",
   "execution_count": 1,
   "metadata": {
    "lines_to_next_cell": 1
   },
   "outputs": [],
   "source": [
    "from ortools.constraint_solver import pywrapcp\n",
    "from itertools import product\n",
    "import numpy as np"
   ]
  },
  {
   "cell_type": "markdown",
   "metadata": {},
   "source": [
    "Pretty-print square minesweeper board"
   ]
  },
  {
   "cell_type": "code",
   "execution_count": 2,
   "metadata": {
    "lines_to_next_cell": 1
   },
   "outputs": [],
   "source": [
    "def pretty_print(mines, labels):\n",
    "    for i in range(len(labels)):\n",
    "        for j in range(len(labels)):\n",
    "            if labels[i][j] != \"\":\n",
    "                print(\"[ {}]\\t\".format(labels[i][j]), end='')\n",
    "            elif mines[i][j].Value() == 1:\n",
    "                print(\"[💣]\\t\", end='')\n",
    "            else:\n",
    "                print(\"[  ]\\t\", end='')\n",
    "        print(\"\\n\")\n",
    "    print(\"\\n\\n\")"
   ]
  },
  {
   "cell_type": "markdown",
   "metadata": {},
   "source": [
    "Some Minesweeper examples, the first one is from the lecture"
   ]
  },
  {
   "cell_type": "code",
   "execution_count": 3,
   "metadata": {},
   "outputs": [],
   "source": [
    "mine_field1 = [\n",
    "    [\"2\", \"\", \"\", \"\", \"1\"],\n",
    "    [\"2\", \"\", \"4\", \"3\", \"\"],\n",
    "    [\"\", \"2\", \"\", \"1\", \"\"],\n",
    "    [\"\", \"1\", \"\", \"3\", \"\"],\n",
    "    [\"1\", \"\", \"\", \"\", \"\"],\n",
    "]\n",
    "mine_field2 = [\n",
    "    [\"1\", \"\", \"\", \"\", \"2\", \"\", \"\", \"1\"],\n",
    "    [\"\", \"1\", \"2\", \"\", \"3\", \"\", \"\", \"1\"],\n",
    "    [\"\", \"2\", \"\", \"1\", \"\", \"\", \"\", \"0\"],\n",
    "    [\"\", \"2\", \"1\", \"\", \"\", \"2\", \"3\", \"1\"],\n",
    "    [\"\", \"\", \"\", \"2\", \"\", \"\", \"\", \"\"],\n",
    "    [\"1\", \"\", \"\", \"\", \"4\", \"3\", \"\", \"\"],\n",
    "    [\"\", \"1\", \"\", \"\", \"4\", \"\", \"3\", \"\"],\n",
    "    [\"1\", \"\", \"\", \"2\", \"\", \"2\", \"\", \"1\"],\n",
    "]\n",
    "mine_field3 = [\n",
    "    [\"\", \"\", \"\", \"\", \"\", \"1\", \"\", \"\"],\n",
    "    [\"1\", \"2\", \"2\", \"1\", \"\", \"\", \"1\", \"1\"],\n",
    "    [\"\", \"1\", \"\", \"\", \"\", \"\", \"\", \"\"],\n",
    "    [\"\", \"\", \"0\", \"\", \"\", \"1\", \"\", \"1\"],\n",
    "    [\"\", \"1\", \"\", \"\", \"\", \"\", \"\", \"\"],\n",
    "    [\"\", \"\", \"1\", \"\", \"2\", \"3\", \"\", \"\"],\n",
    "    [\"\", \"\", \"\", \"\", \"\", \"\", \"2\", \"1\"],\n",
    "    [\"\", \"1\", \"\", \"2\", \"2\", \"\", \"2\", \"\"],\n",
    "]\n",
    "mine_field4 = [\n",
    "    [\"1\", \"\", \"\", \"2\", \"\", \"2\", \"\", \"2\", \"\", \"\"],\n",
    "    [\"\", \"3\", \"2\", \"\", \"\", \"\", \"4\", \"\", \"\", \"1\"],\n",
    "    [\"\", \"\", \"\", \"1\", \"3\", \"\", \"\", \"\", \"4\", \"\"],\n",
    "    [\"3\", \"\", \"1\", \"\", \"\", \"\", \"3\", \"\", \"\", \"\"],\n",
    "    [\"\", \"2\", \"1\", \"\", \"1\", \"\", \"\", \"3\", \"\", \"2\"],\n",
    "    [\"\", \"3\", \"\", \"2\", \"\", \"\", \"2\", \"\", \"1\", \"\"],\n",
    "    [\"2\", \"\", \"\", \"3\", \"2\", \"\", \"\", \"2\", \"\", \"\"],\n",
    "    [\"\", \"3\", \"\", \"\", \"\", \"3\", \"2\", \"\", \"\", \"3\"],\n",
    "    [\"\", \"\", \"3\", \"\", \"3\", \"3\", \"\", \"\", \"\", \"\"],\n",
    "    [\"\", \"2\", \"\", \"2\", \"\", \"\", \"\", \"\", \"2\", \"\"],\n",
    "]"
   ]
  },
  {
   "cell_type": "markdown",
   "metadata": {},
   "source": [
    "Pick one of the examples"
   ]
  },
  {
   "cell_type": "code",
   "execution_count": 4,
   "metadata": {},
   "outputs": [],
   "source": [
    "game = mine_field1"
   ]
  },
  {
   "cell_type": "markdown",
   "metadata": {},
   "source": [
    "Create constraint solver"
   ]
  },
  {
   "cell_type": "code",
   "execution_count": 5,
   "metadata": {},
   "outputs": [],
   "source": [
    "solver = pywrapcp.Solver(\"Minesweeper\")"
   ]
  },
  {
   "cell_type": "code",
   "execution_count": 6,
   "metadata": {},
   "outputs": [],
   "source": [
    "# calculate the board size\n",
    "n, m = len(game), len(game[0])\n",
    "\n",
    "# create n*n board for the solution\n",
    "board = [[None for _j in range(m)] for _i in range(n)]\n",
    "\n",
    "# assign pre-defined values\n",
    "for i in range(n):\n",
    "    for j in range(m):\n",
    "        if game[i][j] == \"\":\n",
    "            # we need to either mark it as mine or non-mine\n",
    "            board[i][j] = solver.IntVar(0, 1)\n",
    "        else:\n",
    "            # field is a pre-defined constant\n",
    "            board[i][j] = solver.IntVar(0, 8)\n",
    "            solver.Add(board[i][j] == int(game[i][j]))\n",
    "\n",
    "            \n",
    "def get_neighbors(board_size, cell):\n",
    "    I, J = board_size\n",
    "    i, j = cell\n",
    "    neighbors = []\n",
    "    for x in range(i - 1, i + 2):\n",
    "        for y in range(j - 1, j + 2):\n",
    "            if -1 < i <= I and -1 < j <= J and (i != x or j != y) and 0 <= x < I and 0 <= y < J:\n",
    "                neighbors.append((x, y))\n",
    "    return neighbors\n",
    "\n",
    "\n",
    "# Constraint: amount of mines as neighbours\n",
    "for i in range(n):\n",
    "    for j in range(m):\n",
    "        # only check pre-defined fields with actual number in it\n",
    "        if game[i][j] == \"\":\n",
    "            continue\n",
    "            \n",
    "        # get all neighbors\n",
    "        neighbors = get_neighbors((n, m), (i, j))\n",
    "        # remove pre-defined fields from neighbors\n",
    "        neighbors = [(x, y) for x, y in neighbors if game[x][y] == \"\"]\n",
    "        # value of a pre-defined field has to be equal the same of it's valid neighbors.\n",
    "        # whereas a valid neighbor either contains a 0 for no-mine or a 1 for a mine.\n",
    "        solver.Add(solver.Sum([board[k][l] for k, l in neighbors]) == board[i][j])"
   ]
  },
  {
   "cell_type": "markdown",
   "metadata": {},
   "source": [
    "Configure solver"
   ]
  },
  {
   "cell_type": "code",
   "execution_count": 7,
   "metadata": {},
   "outputs": [],
   "source": [
    "# Replace this by a list of decision varianles in your model\n",
    "all_vars = list(np.concatenate(board))\n",
    "\n",
    "db = solver.Phase(all_vars, solver.INT_VAR_SIMPLE, solver.INT_VALUE_SIMPLE)"
   ]
  },
  {
   "cell_type": "markdown",
   "metadata": {},
   "source": [
    "Start solver"
   ]
  },
  {
   "cell_type": "code",
   "execution_count": 8,
   "metadata": {},
   "outputs": [
    {
     "name": "stdout",
     "output_type": "stream",
     "text": [
      "[ 2]\t[💣]\t[💣]\t[💣]\t[ 1]\t\n",
      "\n",
      "[ 2]\t[💣]\t[ 4]\t[ 3]\t[  ]\t\n",
      "\n",
      "[  ]\t[ 2]\t[  ]\t[ 1]\t[💣]\t\n",
      "\n",
      "[💣]\t[ 1]\t[  ]\t[ 3]\t[  ]\t\n",
      "\n",
      "[ 1]\t[  ]\t[  ]\t[💣]\t[💣]\t\n",
      "\n",
      "\n",
      "\n",
      "\n"
     ]
    }
   ],
   "source": [
    "solver.NewSearch(db)\n",
    "while solver.NextSolution():\n",
    "    pretty_print(board, game)"
   ]
  },
  {
   "cell_type": "markdown",
   "metadata": {},
   "source": [
    "Cleanup"
   ]
  },
  {
   "cell_type": "code",
   "execution_count": 9,
   "metadata": {},
   "outputs": [],
   "source": [
    "solver.EndSearch()"
   ]
  },
  {
   "cell_type": "markdown",
   "metadata": {},
   "source": [
    "Print solver information"
   ]
  },
  {
   "cell_type": "code",
   "execution_count": 10,
   "metadata": {},
   "outputs": [
    {
     "name": "stdout",
     "output_type": "stream",
     "text": [
      "Solutions: 1\n",
      "Runtime:   55ms\n",
      "Failures:  2\n",
      "Branches:  4 \n"
     ]
    }
   ],
   "source": [
    "print(\"Solutions: {}\".format(solver.Solutions()))\n",
    "print(\"Runtime:   {}ms\".format(solver.WallTime()))\n",
    "print(\"Failures:  {}\".format(solver.Failures()))\n",
    "print(\"Branches:  {} \".format(solver.Branches()))"
   ]
  }
 ],
 "metadata": {
  "jupytext": {
   "cell_metadata_filter": "-all",
   "main_language": "python",
   "notebook_metadata_filter": "-all",
   "text_representation": {
    "extension": ".py",
    "format_name": "percent"
   }
  },
  "kernelspec": {
   "display_name": "Python 3",
   "language": "python",
   "name": "python3"
  },
  "language_info": {
   "codemirror_mode": {
    "name": "ipython",
    "version": 3
   },
   "file_extension": ".py",
   "mimetype": "text/x-python",
   "name": "python",
   "nbconvert_exporter": "python",
   "pygments_lexer": "ipython3",
   "version": "3.6.8"
  }
 },
 "nbformat": 4,
 "nbformat_minor": 2
}
