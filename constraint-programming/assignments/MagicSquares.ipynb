{
 "cells": [
  {
   "cell_type": "markdown",
   "metadata": {},
   "source": [
    "# Magic Square Puzzle"
   ]
  },
  {
   "cell_type": "markdown",
   "metadata": {},
   "source": [
    "A magic square is an arrangement of distinct integers in a square grid, such that the values in each row, in each\n",
    "column and in the two main diagonals all add up to the same number. If n denotes the number of cells,\n",
    "the values 1 to n are to be distributed."
   ]
  },
  {
   "cell_type": "markdown",
   "metadata": {},
   "source": [
    "Imports"
   ]
  },
  {
   "cell_type": "code",
   "execution_count": 1,
   "metadata": {
    "lines_to_next_cell": 1
   },
   "outputs": [],
   "source": [
    "from ortools.constraint_solver import pywrapcp\n",
    "from itertools import product\n",
    "import numpy as np\n",
    "import itertools"
   ]
  },
  {
   "cell_type": "markdown",
   "metadata": {},
   "source": [
    "Pretty-print square board"
   ]
  },
  {
   "cell_type": "code",
   "execution_count": 2,
   "metadata": {
    "lines_to_next_cell": 1
   },
   "outputs": [],
   "source": [
    "def pretty_print(board):\n",
    "    for i in range(len(board)):\n",
    "        for j in range(len(board)):\n",
    "            print(\"[{}] \".format(board[i][j].Value()), end='')\n",
    "        print(\"\\n\")\n",
    "    print(\"\\n\\n\")"
   ]
  },
  {
   "cell_type": "markdown",
   "metadata": {},
   "source": [
    "Define magic square size"
   ]
  },
  {
   "cell_type": "code",
   "execution_count": 3,
   "metadata": {},
   "outputs": [],
   "source": [
    "n = 3\n",
    "magic_constant = n * (n * n + 1) // 2"
   ]
  },
  {
   "cell_type": "markdown",
   "metadata": {},
   "source": [
    "Create constraint solver"
   ]
  },
  {
   "cell_type": "code",
   "execution_count": 4,
   "metadata": {},
   "outputs": [],
   "source": [
    "solver = pywrapcp.Solver(\"Magic Square\")"
   ]
  },
  {
   "cell_type": "code",
   "execution_count": 5,
   "metadata": {},
   "outputs": [],
   "source": [
    "# n*n board\n",
    "board = [[solver.IntVar(1, n * n) for _j in range(n)] for _i in range(n)]\n",
    "\n",
    "# If n denotes the number of cells, the values 1 to n are to be distributed.\n",
    "solver.Add(solver.AllDifferent(list(np.concatenate(board))))\n",
    "\n",
    "# distinct integers in a square grid, such that the values in each row, in each column \n",
    "# and in the two main diagonals all add up to the same number.\n",
    "\n",
    "# rows & columns\n",
    "for i in range(n):\n",
    "    solver.Add(solver.Sum([board[i][j] for j in range(n)]) == magic_constant)  # rows\n",
    "    solver.Add(solver.Sum([board[j][i] for j in range(n)]) == magic_constant)  # columns\n",
    "    \n",
    "# diagonal top left to bottom right\n",
    "solver.Add(solver.Sum([board[i][i] for i in range(n)]) == magic_constant)\n",
    "# diagonal top right to bottom left\n",
    "solver.Add(solver.Sum([board[i][n -1 - i] for i in range(n)]) == magic_constant)"
   ]
  },
  {
   "cell_type": "markdown",
   "metadata": {},
   "source": [
    "Configure solver"
   ]
  },
  {
   "cell_type": "code",
   "execution_count": 6,
   "metadata": {},
   "outputs": [],
   "source": [
    "# Replace this by a list of all decision variables\n",
    "all_vars = list(np.concatenate(board))\n",
    "\n",
    "db = solver.Phase(all_vars, solver.INT_VAR_SIMPLE, solver.INT_VALUE_SIMPLE)"
   ]
  },
  {
   "cell_type": "markdown",
   "metadata": {},
   "source": [
    "Start solver"
   ]
  },
  {
   "cell_type": "code",
   "execution_count": 7,
   "metadata": {},
   "outputs": [
    {
     "name": "stdout",
     "output_type": "stream",
     "text": [
      "[2] [7] [6] \n",
      "\n",
      "[9] [5] [1] \n",
      "\n",
      "[4] [3] [8] \n",
      "\n",
      "\n",
      "\n",
      "\n",
      "[2] [9] [4] \n",
      "\n",
      "[7] [5] [3] \n",
      "\n",
      "[6] [1] [8] \n",
      "\n",
      "\n",
      "\n",
      "\n",
      "[4] [3] [8] \n",
      "\n",
      "[9] [5] [1] \n",
      "\n",
      "[2] [7] [6] \n",
      "\n",
      "\n",
      "\n",
      "\n",
      "[4] [9] [2] \n",
      "\n",
      "[3] [5] [7] \n",
      "\n",
      "[8] [1] [6] \n",
      "\n",
      "\n",
      "\n",
      "\n",
      "[6] [1] [8] \n",
      "\n",
      "[7] [5] [3] \n",
      "\n",
      "[2] [9] [4] \n",
      "\n",
      "\n",
      "\n",
      "\n",
      "[6] [7] [2] \n",
      "\n",
      "[1] [5] [9] \n",
      "\n",
      "[8] [3] [4] \n",
      "\n",
      "\n",
      "\n",
      "\n",
      "[8] [1] [6] \n",
      "\n",
      "[3] [5] [7] \n",
      "\n",
      "[4] [9] [2] \n",
      "\n",
      "\n",
      "\n",
      "\n",
      "[8] [3] [4] \n",
      "\n",
      "[1] [5] [9] \n",
      "\n",
      "[6] [7] [2] \n",
      "\n",
      "\n",
      "\n",
      "\n"
     ]
    }
   ],
   "source": [
    "solver.NewSearch(db)\n",
    "while solver.NextSolution():\n",
    "    pretty_print(board)"
   ]
  },
  {
   "cell_type": "markdown",
   "metadata": {},
   "source": [
    "Cleanup"
   ]
  },
  {
   "cell_type": "code",
   "execution_count": 8,
   "metadata": {},
   "outputs": [],
   "source": [
    "solver.EndSearch()"
   ]
  },
  {
   "cell_type": "markdown",
   "metadata": {},
   "source": [
    "Print solver information"
   ]
  },
  {
   "cell_type": "code",
   "execution_count": 9,
   "metadata": {},
   "outputs": [
    {
     "name": "stdout",
     "output_type": "stream",
     "text": [
      "Solutions: 8\n",
      "Runtime:   52ms\n",
      "Failures:  28\n",
      "Branches:  70 \n"
     ]
    }
   ],
   "source": [
    "print(\"Solutions: {}\".format(solver.Solutions()))\n",
    "print(\"Runtime:   {}ms\".format(solver.WallTime()))\n",
    "print(\"Failures:  {}\".format(solver.Failures()))\n",
    "print(\"Branches:  {} \".format(solver.Branches()))"
   ]
  }
 ],
 "metadata": {
  "jupytext": {
   "cell_metadata_filter": "-all",
   "main_language": "python",
   "notebook_metadata_filter": "-all",
   "text_representation": {
    "extension": ".py",
    "format_name": "percent"
   }
  },
  "kernelspec": {
   "display_name": "Python 3",
   "language": "python",
   "name": "python3"
  },
  "language_info": {
   "codemirror_mode": {
    "name": "ipython",
    "version": 3
   },
   "file_extension": ".py",
   "mimetype": "text/x-python",
   "name": "python",
   "nbconvert_exporter": "python",
   "pygments_lexer": "ipython3",
   "version": "3.6.4"
  }
 },
 "nbformat": 4,
 "nbformat_minor": 2
}
