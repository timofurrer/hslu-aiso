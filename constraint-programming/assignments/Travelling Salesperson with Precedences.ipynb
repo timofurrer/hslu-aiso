{
 "cells": [
  {
   "cell_type": "markdown",
   "metadata": {},
   "source": [
    "# Travelling Salesperson with Precedence Constraints"
   ]
  },
  {
   "cell_type": "markdown",
   "metadata": {},
   "source": [
    "Lucerne University of Applied Sciences and Arts - School of Information Technology\n",
    "\n",
    "The following exercise originates from a recent research project.\n",
    "\n",
    "Our industry partner is a Swiss small to medium sized company in the electricity market. They have one central headquarter from where they send out teams for various repair and maintenance tasks. Every task is bound to a specific location. The company wants to minimize the overall travelling costs. For simplicity we assume that the costs between any pair of locations are known in advance. However, they additionally have to respect certain inter-dependencies among the tasks. For example: for safety reasons it is important to first switch off electricity (task A) before starting the repair work on electric components (task B). This induces a constraint that task A must always be completed before task B can be started. \n",
    "\n",
    "Write a constraint optimization model based on the OR-Tools Routing API that takes the number of teams as input together with a costs matrix between any pair of locations. For testing we provide code that automati-cally creates cost matrices with random numbers. The following figure displays the inter-dependencies among 11 tasks to be worked off. We further assume that location 0 (not displayed here) refers to the company’s headquarter. The duration for each tasks can be considered a constant and can thus be neglected in your model.\n",
    "\n",
    "Task inter-dependencies are shown in the following figure:\n",
    "\n",
    "![image.png](attachment:image.png)"
   ]
  },
  {
   "cell_type": "markdown",
   "metadata": {},
   "source": [
    "@author: Marc Pouly\n",
    "@author: Tobias Mérinat"
   ]
  },
  {
   "cell_type": "markdown",
   "metadata": {},
   "source": [
    "Imports"
   ]
  },
  {
   "cell_type": "code",
   "execution_count": 5,
   "metadata": {},
   "outputs": [],
   "source": [
    "import sys\n",
    "sys.path.append('../lecture/')\n",
    "\n",
    "from ortools.constraint_solver import pywrapcp, routing_enums_pb2\n",
    "from tsp_examples import randomly"
   ]
  },
  {
   "cell_type": "markdown",
   "metadata": {},
   "source": [
    "The randomly example has the correct dimensions for this exercise."
   ]
  },
  {
   "cell_type": "code",
   "execution_count": 6,
   "metadata": {},
   "outputs": [],
   "source": [
    "example = randomly"
   ]
  },
  {
   "cell_type": "markdown",
   "metadata": {},
   "source": [
    "Assign values"
   ]
  },
  {
   "cell_type": "code",
   "execution_count": 7,
   "metadata": {},
   "outputs": [],
   "source": [
    "location_names = example.names\n",
    "distance = example.distance\n",
    "num_locations = example.num_cities\n",
    "num_teams = example.num_vehicles\n",
    "headquarter_index = example.depot_index  # Nodes are indexed from 0 to tsp_size - 1. The hq is the starting node of the route."
   ]
  },
  {
   "cell_type": "markdown",
   "metadata": {},
   "source": [
    "Create routing model"
   ]
  },
  {
   "cell_type": "code",
   "execution_count": 8,
   "metadata": {},
   "outputs": [
    {
     "ename": "NotImplementedError",
     "evalue": "Wrong number or type of arguments for overloaded function 'new_RoutingModel'.\n  Possible C/C++ prototypes are:\n    operations_research::RoutingModel::RoutingModel(operations_research::RoutingIndexManager const &)\n    operations_research::RoutingModel::RoutingModel(operations_research::RoutingIndexManager const &,operations_research::RoutingModelParameters const &)\n",
     "output_type": "error",
     "traceback": [
      "\u001b[0;31m---------------------------------------------------------------------------\u001b[0m",
      "\u001b[0;31mNotImplementedError\u001b[0m                       Traceback (most recent call last)",
      "\u001b[0;32m<ipython-input-8-4a98a19ddcc8>\u001b[0m in \u001b[0;36m<module>\u001b[0;34m()\u001b[0m\n\u001b[0;32m----> 1\u001b[0;31m \u001b[0mrouting\u001b[0m \u001b[0;34m=\u001b[0m \u001b[0mpywrapcp\u001b[0m\u001b[0;34m.\u001b[0m\u001b[0mRoutingModel\u001b[0m\u001b[0;34m(\u001b[0m\u001b[0mnum_locations\u001b[0m\u001b[0;34m,\u001b[0m \u001b[0mnum_teams\u001b[0m\u001b[0;34m,\u001b[0m \u001b[0mheadquarter_index\u001b[0m\u001b[0;34m)\u001b[0m\u001b[0;34m\u001b[0m\u001b[0m\n\u001b[0m",
      "\u001b[0;32m/opt/conda/lib/python3.6/site-packages/ortools/constraint_solver/pywrapcp.py\u001b[0m in \u001b[0;36m__init__\u001b[0;34m(self, *args)\u001b[0m\n\u001b[1;32m   3195\u001b[0m \u001b[0;34m\u001b[0m\u001b[0m\n\u001b[1;32m   3196\u001b[0m     \u001b[0;32mdef\u001b[0m \u001b[0m__init__\u001b[0m\u001b[0;34m(\u001b[0m\u001b[0mself\u001b[0m\u001b[0;34m,\u001b[0m \u001b[0;34m*\u001b[0m\u001b[0margs\u001b[0m\u001b[0;34m)\u001b[0m\u001b[0;34m:\u001b[0m\u001b[0;34m\u001b[0m\u001b[0m\n\u001b[0;32m-> 3197\u001b[0;31m         \u001b[0mthis\u001b[0m \u001b[0;34m=\u001b[0m \u001b[0m_pywrapcp\u001b[0m\u001b[0;34m.\u001b[0m\u001b[0mnew_RoutingModel\u001b[0m\u001b[0;34m(\u001b[0m\u001b[0;34m*\u001b[0m\u001b[0margs\u001b[0m\u001b[0;34m)\u001b[0m\u001b[0;34m\u001b[0m\u001b[0m\n\u001b[0m\u001b[1;32m   3198\u001b[0m         \u001b[0;32mtry\u001b[0m\u001b[0;34m:\u001b[0m\u001b[0;34m\u001b[0m\u001b[0m\n\u001b[1;32m   3199\u001b[0m             \u001b[0mself\u001b[0m\u001b[0;34m.\u001b[0m\u001b[0mthis\u001b[0m\u001b[0;34m.\u001b[0m\u001b[0mappend\u001b[0m\u001b[0;34m(\u001b[0m\u001b[0mthis\u001b[0m\u001b[0;34m)\u001b[0m\u001b[0;34m\u001b[0m\u001b[0m\n",
      "\u001b[0;31mNotImplementedError\u001b[0m: Wrong number or type of arguments for overloaded function 'new_RoutingModel'.\n  Possible C/C++ prototypes are:\n    operations_research::RoutingModel::RoutingModel(operations_research::RoutingIndexManager const &)\n    operations_research::RoutingModel::RoutingModel(operations_research::RoutingIndexManager const &,operations_research::RoutingModelParameters const &)\n"
     ]
    }
   ],
   "source": [
    "routing = pywrapcp.RoutingModel(num_locations, num_teams, headquarter_index)"
   ]
  },
  {
   "cell_type": "markdown",
   "metadata": {},
   "source": [
    "All teams use the same cost model"
   ]
  },
  {
   "cell_type": "code",
   "execution_count": 5,
   "metadata": {},
   "outputs": [],
   "source": [
    "routing.SetArcCostEvaluatorOfAllVehicles(distance)"
   ]
  },
  {
   "cell_type": "markdown",
   "metadata": {},
   "source": [
    "Force all teams to process at least one task"
   ]
  },
  {
   "cell_type": "code",
   "execution_count": 6,
   "metadata": {},
   "outputs": [],
   "source": [
    "# Write your code here ..."
   ]
  },
  {
   "cell_type": "markdown",
   "metadata": {},
   "source": [
    "Add interdependencies from exercise description"
   ]
  },
  {
   "cell_type": "code",
   "execution_count": 7,
   "metadata": {
    "lines_to_next_cell": 2
   },
   "outputs": [],
   "source": [
    "solver = routing.solver()\n",
    "\n",
    "routing.AddConstantDimension(1, sys.maxsize, True, \"time\")\n",
    "time = routing.GetDimensionOrDie(\"time\")\n",
    "\n",
    "# Write your code here ...\n",
    "# Use time.CumulVar(...)\n"
   ]
  },
  {
   "cell_type": "markdown",
   "metadata": {},
   "source": [
    "Start solver"
   ]
  },
  {
   "cell_type": "code",
   "execution_count": 8,
   "metadata": {},
   "outputs": [],
   "source": [
    "assignment = routing.Solve()"
   ]
  },
  {
   "cell_type": "markdown",
   "metadata": {},
   "source": [
    "Print solution"
   ]
  },
  {
   "cell_type": "code",
   "execution_count": 9,
   "metadata": {},
   "outputs": [
    {
     "name": "stdout",
     "output_type": "stream",
     "text": [
      "Total distance: 1797 miles\n",
      "\n",
      "Vehicle 1:\n",
      " 0 -> 4\n",
      " 4 -> 0\n",
      "\n",
      "Vehicle 2:\n",
      " 0 -> 9\n",
      " 9 -> 11\n",
      " 11 -> 7\n",
      " 7 -> 1\n",
      " 1 -> 5\n",
      " 5 -> 8\n",
      " 8 -> 6\n",
      " 6 -> 10\n",
      " 10 -> 2\n",
      " 2 -> 3\n",
      " 3 -> 0\n",
      "\n"
     ]
    }
   ],
   "source": [
    "if assignment:\n",
    "    print('Total distance: {} miles\\n'.format(assignment.ObjectiveValue()))\n",
    "    for vehicle_num in range(routing.vehicles()):\n",
    "        print('Vehicle {}:'.format(vehicle_num+1))\n",
    "        route = \"\"\n",
    "        index = routing.Start(vehicle_num)  # index of the variable for the starting node\n",
    "        while not routing.IsEnd(index):\n",
    "            # Convert variable indices to node indices for displaying\n",
    "            route += ' {} -> '.format((location_names[routing.IndexToNode(index)]))\n",
    "            index = assignment.Value(routing.NextVar(index))\n",
    "            route += '{}\\n'.format(location_names[routing.IndexToNode(index)])\n",
    "        print(route)\n",
    "else:\n",
    "    print('No solution found.')"
   ]
  },
  {
   "cell_type": "code",
   "execution_count": null,
   "metadata": {},
   "outputs": [],
   "source": []
  }
 ],
 "metadata": {
  "jupytext": {
   "cell_metadata_filter": "-all",
   "encoding": "# -*- coding: utf-8 -*-",
   "main_language": "python",
   "notebook_metadata_filter": "-all"
  },
  "kernelspec": {
   "display_name": "Python 3",
   "language": "python",
   "name": "python3"
  },
  "language_info": {
   "codemirror_mode": {
    "name": "ipython",
    "version": 3
   },
   "file_extension": ".py",
   "mimetype": "text/x-python",
   "name": "python",
   "nbconvert_exporter": "python",
   "pygments_lexer": "ipython3",
   "version": "3.6.4"
  }
 },
 "nbformat": 4,
 "nbformat_minor": 2
}
