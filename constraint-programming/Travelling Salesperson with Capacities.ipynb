{
 "cells": [
  {
   "cell_type": "markdown",
   "metadata": {},
   "source": [
    "# Travelling Salesperson with Capacities Example"
   ]
  },
  {
   "cell_type": "markdown",
   "metadata": {},
   "source": [
    "Lucerne University of Applied Sciences and Arts - School of Information Technology"
   ]
  },
  {
   "cell_type": "markdown",
   "metadata": {},
   "source": [
    "Code adapted from https://developers.google.com/optimization/routing/tsp/tsp\n",
    "\n",
    "@author: Tobias Mérinat\n",
    "@author: Marc Pouly"
   ]
  },
  {
   "cell_type": "markdown",
   "metadata": {},
   "source": [
    "Imports"
   ]
  },
  {
   "cell_type": "code",
   "execution_count": 1,
   "metadata": {},
   "outputs": [],
   "source": [
    "from ortools.constraint_solver import pywrapcp, routing_enums_pb2\n",
    "from tsp_examples import large_capa, manhattan_capa"
   ]
  },
  {
   "cell_type": "markdown",
   "metadata": {},
   "source": [
    "Choose example"
   ]
  },
  {
   "cell_type": "code",
   "execution_count": 2,
   "metadata": {},
   "outputs": [],
   "source": [
    "example = manhattan_capa"
   ]
  },
  {
   "cell_type": "markdown",
   "metadata": {},
   "source": [
    "Assign values"
   ]
  },
  {
   "cell_type": "code",
   "execution_count": 3,
   "metadata": {},
   "outputs": [
    {
     "name": "stdout",
     "output_type": "stream",
     "text": [
      "Cities: [0, 1, 2, 3, 4, 5, 6, 7, 8, 9, 10, 11, 12, 13, 14, 15, 16]\n",
      "Demand per City: [0, 1, 1, 2, 4, 2, 4, 8, 8, 1, 2, 1, 2, 4, 4, 8, 8]\n",
      "Vehicles: 4\n",
      "Depot: 0\n",
      "Vehicle Capacities: [15, 15, 15, 15]\n"
     ]
    }
   ],
   "source": [
    "city_names = example.names\n",
    "distance = example.distance\n",
    "num_cities = example.num_cities\n",
    "num_vehicles = example.num_vehicles\n",
    "depot_index = example.depot_index  \n",
    "#demand = example.demand\n",
    "capacities = example.capacities\n",
    "\n",
    "print(\"Cities:\", list(city_names))\n",
    "print(\"Demand per City:\",  list(example.demands))\n",
    "print(\"Vehicles:\", num_vehicles)\n",
    "print(\"Depot:\", depot_index)\n",
    "print(\"Vehicle Capacities:\", capacities)\n",
    "\n",
    "\n",
    "# Nodes are indexed from 0 to tsp_size - 1. The depot is the starting node of the route.\n",
    "\n",
    "# The above input numbers are being imported from an external file.\n",
    "# Uncomment the following lines for experimenting\n",
    "\n",
    "#demands = [0, 1, 1, 2, 4, 2, 4, 8, 8, 1, 2, 1, 2, 4, 4, 8, 8]\n",
    "\n",
    "#num_vehicles = 4\n",
    "\n",
    "#def demand(a, _):\n",
    "#    return demands[a]\n",
    "\n",
    "#capacities = [15] * num_vehicles"
   ]
  },
  {
   "cell_type": "markdown",
   "metadata": {},
   "source": [
    "Create routing model"
   ]
  },
  {
   "cell_type": "code",
   "execution_count": 4,
   "metadata": {},
   "outputs": [],
   "source": [
    "routing = pywrapcp.RoutingModel(num_cities, num_vehicles, depot_index)"
   ]
  },
  {
   "cell_type": "markdown",
   "metadata": {},
   "source": [
    "All vehicles use the same cost model"
   ]
  },
  {
   "cell_type": "code",
   "execution_count": 5,
   "metadata": {},
   "outputs": [],
   "source": [
    "routing.SetArcCostEvaluatorOfAllVehicles(distance)"
   ]
  },
  {
   "cell_type": "markdown",
   "metadata": {},
   "source": [
    "Capacity constraints, the 0 means that capacities are strict"
   ]
  },
  {
   "cell_type": "code",
   "execution_count": 6,
   "metadata": {},
   "outputs": [
    {
     "ename": "NameError",
     "evalue": "name 'demand' is not defined",
     "output_type": "error",
     "traceback": [
      "\u001b[0;31m---------------------------------------------------------------------------\u001b[0m",
      "\u001b[0;31mNameError\u001b[0m                                 Traceback (most recent call last)",
      "\u001b[0;32m<ipython-input-6-332574a5c484>\u001b[0m in \u001b[0;36m<module>\u001b[0;34m\u001b[0m\n\u001b[0;32m----> 1\u001b[0;31m \u001b[0mrouting\u001b[0m\u001b[0;34m.\u001b[0m\u001b[0mAddDimensionWithVehicleCapacity\u001b[0m\u001b[0;34m(\u001b[0m\u001b[0mdemand\u001b[0m\u001b[0;34m,\u001b[0m \u001b[0;36m0\u001b[0m\u001b[0;34m,\u001b[0m \u001b[0mcapacities\u001b[0m\u001b[0;34m,\u001b[0m \u001b[0;32mTrue\u001b[0m\u001b[0;34m,\u001b[0m \u001b[0;34m\"capacity\"\u001b[0m\u001b[0;34m)\u001b[0m\u001b[0;34m\u001b[0m\u001b[0;34m\u001b[0m\u001b[0m\n\u001b[0m",
      "\u001b[0;31mNameError\u001b[0m: name 'demand' is not defined"
     ]
    }
   ],
   "source": [
    "routing.AddDimensionWithVehicleCapacity(demand, 0, capacities, True, \"capacity\")"
   ]
  },
  {
   "cell_type": "markdown",
   "metadata": {},
   "source": [
    "Configure solver"
   ]
  },
  {
   "cell_type": "code",
   "execution_count": null,
   "metadata": {},
   "outputs": [],
   "source": [
    "parameters = pywrapcp.RoutingModel.DefaultSearchParameters()\n",
    "parameters.first_solution_strategy = (routing_enums_pb2.FirstSolutionStrategy.PATH_CHEAPEST_ARC)\n",
    "parameters.local_search_metaheuristic = (routing_enums_pb2.LocalSearchMetaheuristic.GUIDED_LOCAL_SEARCH)\n",
    "parameters.time_limit_ms = 10000"
   ]
  },
  {
   "cell_type": "markdown",
   "metadata": {},
   "source": [
    "Start solver"
   ]
  },
  {
   "cell_type": "code",
   "execution_count": null,
   "metadata": {},
   "outputs": [],
   "source": [
    "assignment = routing.SolveWithParameters(parameters)"
   ]
  },
  {
   "cell_type": "markdown",
   "metadata": {},
   "source": [
    "Print solution"
   ]
  },
  {
   "cell_type": "code",
   "execution_count": null,
   "metadata": {},
   "outputs": [],
   "source": [
    "if assignment:\n",
    "    print('Total distance: {} miles, demands of each city in parenthesis\\n'.format(assignment.ObjectiveValue()))\n",
    "    for vehicle_num in range(routing.vehicles()):\n",
    "        print('\"Vehicle\" {} (capacity {}):'.format(vehicle_num+1, capacities[vehicle_num]))\n",
    "        route = \"\"\n",
    "        var_index = routing.Start(vehicle_num)  # index of the variable for the starting node\n",
    "        while not routing.IsEnd(var_index):\n",
    "            # Convert variable indices to node indices for displaying\n",
    "            city_index = routing.IndexToNode(var_index)\n",
    "            route += ' {}({}) -> '.format(city_names[city_index], example.demands[city_index])\n",
    "            var_index = assignment.Value(routing.NextVar(var_index))\n",
    "            city_index = routing.IndexToNode(var_index)\n",
    "            route += '{}({})\\n'.format(city_names[city_index], example.demands[city_index])\n",
    "        print(route)\n",
    "else:\n",
    "    print('No solution found.')"
   ]
  },
  {
   "cell_type": "code",
   "execution_count": null,
   "metadata": {},
   "outputs": [],
   "source": [
    "if example==manhattan_capa:\n",
    "    import networkx as nx\n",
    "    from itertools import chain\n",
    "    import matplotlib.pyplot as plt\n",
    "    %matplotlib inline\n",
    "    \n",
    "    nodes = example.nodes\n",
    "    demands = example.demands\n",
    "\n",
    "    def make_ax():\n",
    "        fig, ax = plt.subplots(figsize=(10,8))\n",
    "        ax.set_xlim(-1, 9)\n",
    "        ax.set_ylim(9, -1)\n",
    "        ax.set_xticks([0,1,2,3,4,5,6,7,8])\n",
    "        ax.set_yticks([8,7,6,5,4,3,2,1,0])\n",
    "        ax.xaxis.tick_top()\n",
    "        ax.grid()\n",
    "        return ax\n",
    "    \n",
    "    def plot_manhattan(all_nodes, tour_colors, graphs=None, all_demands=None):\n",
    "        ax = make_ax()\n",
    "\n",
    "        for graph, color in zip(graphs, tour_colors):\n",
    "            G = nx.DiGraph()\n",
    "            node_indices = list(set(chain.from_iterable(graph)))\n",
    "            nodes = [all_nodes[i] for i in node_indices]\n",
    "            demands = [all_demands[i] for i in node_indices]\n",
    "            pos = {k:v for k, v in zip(node_indices, nodes)}\n",
    "\n",
    "            G.add_nodes_from(pos.keys())\n",
    "            G.add_edges_from(graph)\n",
    "\n",
    "            color_list = ['black'] + [color] * (len(nodes)-1)\n",
    "            nx.draw_networkx_nodes(G, pos, ax=ax, node_size=400, node_color='white', edgecolors=color_list, linewidths=3)\n",
    "            nx.draw_networkx_edges(G, pos, ax=ax, arrows=True, arrowsize=20, width=2, edge_color=color)\n",
    "            labels = {k:\"     {}   {}\".format(k, d) for k, d in zip(pos.keys(), demands)}\n",
    "            labels[0] = 0\n",
    "            nx.draw_networkx_labels(G, pos, labels=labels, ax=ax,\n",
    "                                    font_color=color, font_size=10, font_weight='bold')\n",
    "        plt.show()\n",
    "    \n",
    "    if assignment:\n",
    "        graphs = []\n",
    "        print(\"Total distance: {}\".format(assignment.ObjectiveValue()))\n",
    "        for vehicle_num in range(routing.vehicles()):\n",
    "            graph = []\n",
    "            index = routing.Start(vehicle_num)  # index of the variable for the starting node\n",
    "            a = routing.IndexToNode(index)\n",
    "            while not routing.IsEnd(index):\n",
    "                index = assignment.Value(routing.NextVar(index))\n",
    "                b = routing.IndexToNode(index)\n",
    "                graph.append((a,b))\n",
    "                a = routing.IndexToNode(index)\n",
    "            graph.append((a, 0))\n",
    "            graphs.append(graph)\n",
    "        plot_manhattan(nodes, tour_colors=['dodgerblue', 'limegreen', 'crimson', 'gold'], graphs=graphs, all_demands=demands)"
   ]
  }
 ],
 "metadata": {
  "jupytext": {
   "cell_metadata_filter": "-all",
   "encoding": "# -*- coding: utf-8 -*-",
   "main_language": "python",
   "notebook_metadata_filter": "-all",
   "text_representation": {
    "extension": ".py",
    "format_name": "percent"
   }
  },
  "kernelspec": {
   "display_name": "Python 3",
   "language": "python",
   "name": "python3"
  },
  "language_info": {
   "codemirror_mode": {
    "name": "ipython",
    "version": 3
   },
   "file_extension": ".py",
   "mimetype": "text/x-python",
   "name": "python",
   "nbconvert_exporter": "python",
   "pygments_lexer": "ipython3",
   "version": "3.6.8"
  }
 },
 "nbformat": 4,
 "nbformat_minor": 2
}
