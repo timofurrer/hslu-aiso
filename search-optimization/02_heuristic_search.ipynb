{
 "cells": [
  {
   "cell_type": "markdown",
   "metadata": {},
   "source": [
    "# Exercise Informed Search Algorithms #\n"
   ]
  },
  {
   "cell_type": "code",
   "execution_count": 1,
   "metadata": {},
   "outputs": [],
   "source": [
    "import sys\n",
    "from pathlib import Path\n",
    "\n",
    "sys.path.insert(0, str(Path().absolute()))\n",
    "\n",
    "try:\n",
    "    import search\n",
    "finally:\n",
    "    sys.path.pop(0)"
   ]
  },
  {
   "cell_type": "markdown",
   "metadata": {},
   "source": [
    "In the last session, we implemented different systematic search strategies. If we want to find paths between different cities in a map, we can use additional information to guide our search. We don't rely on the 'blind' search and can implement more efficient algorithms, that consider the coordinates of the cities for example."
   ]
  },
  {
   "cell_type": "markdown",
   "metadata": {},
   "source": [
    "Implement the following algorithms and answer the same questions as you did for the systematic search algorithms.\n",
    "\n",
    "1. Greedy Search\n",
    "1. A* Algorithm\n",
    "1. IDA* Search"
   ]
  },
  {
   "cell_type": "code",
   "execution_count": 2,
   "metadata": {},
   "outputs": [
    {
     "name": "stdout",
     "output_type": "stream",
     "text": [
      "successfully imported 2787 hubs\n",
      "successfully imported 401 train lines\n"
     ]
    }
   ],
   "source": [
    "from sbb import SBB\n",
    "\n",
    "sbb = SBB()\n",
    "sbb.importData('linie-mit-betriebspunkten.json')\n",
    "\n",
    "start = 'Rotkreuz'\n",
    "goal = 'Thalwil'\n",
    "sbb_map = search.UndirectedGraph(sbb.createMap())\n",
    "problem = search.GraphProblem(start, goal, sbb_map)\n",
    "\n",
    "def greedy_search(problem, heuristic):\n",
    "    return heuristic_search(problem, heuristic)\n",
    "\n",
    "\n",
    "def a_star_search(problem, heuristic):\n",
    "    return heuristic_search(problem, lambda n: heuristic(n) + n.path_cost)\n",
    "\n",
    "\n",
    "def heuristic_search(problem, heuristic):\n",
    "    explored = set()\n",
    "    node = search.Node(problem.initial)\n",
    "\n",
    "    while node is not None:\n",
    "        candidates = {}\n",
    "\n",
    "        if problem.goal_test(node.state):\n",
    "            print(\"Found node:\", node.state)\n",
    "            print(\"   - Cost:\", node.path_cost)\n",
    "            print(\"   - # Visited Nodes:\", len(explored))\n",
    "            print(\"   - # Max Stored nodes:\", len(explored))\n",
    "            return node\n",
    "\n",
    "        explored.add(node.state)\n",
    "        candidates = [(child, heuristic(child)) for child in node.expand(problem) if child.state not in explored]\n",
    "\n",
    "        if not candidates:\n",
    "            return None\n",
    "\n",
    "        candidates.sort(key=lambda c: c[1])\n",
    "        node = candidates[0][0]\n",
    "\n",
    "    return None\n",
    "\n",
    "\n",
    "def iterative_a_star(problem, heuristic):\n",
    "    def priority(n):\n",
    "        return heuristic(n) + n.path_cost\n",
    "\n",
    "    node = search.Node(problem.initial)\n",
    "\n",
    "    frontier = search.PriorityQueue('min', priority)\n",
    "    frontier.append(node)\n",
    "    explored = set()\n",
    "\n",
    "    while frontier:\n",
    "        node = frontier.pop()\n",
    "\n",
    "        if problem.goal_test(node.state):\n",
    "            print(\"Found node:\", node.state)\n",
    "            print(\"   - Cost:\", node.path_cost)\n",
    "            print(\"   - # Visited Nodes:\", len(explored))\n",
    "            print(\"   - # Max Stored nodes:\", len(explored) + len(frontier))\n",
    "            return node\n",
    "\n",
    "        explored.add(node.state)\n",
    "        for child in node.expand(problem):\n",
    "            in_frontier = len([n for _, n in frontier.heap if n.state == child.state]) > 0\n",
    "            if not in_frontier and child.state not in explored:\n",
    "                frontier.append(child)\n",
    "\n",
    "    return None"
   ]
  },
  {
   "cell_type": "markdown",
   "metadata": {},
   "source": [
    "Hints: you can use the heap library heapq for your frontier:\n",
    "\n",
    "`from heapq import heappush, heappop`\n",
    "\n",
    "The following line will add the node `f` to the frontier with priority `f`:\n",
    "\n",
    "`heappush(frontier, (f, node))`\n",
    "\n",
    "To get the first node, use: `node = heappop(frontier)[1]`\n",
    "\n",
    "The aerial distance between a node and the goal can be computed with the following function:\n",
    "\n",
    "`sbb.get_distance_between(node.state, problem.goal)`\n",
    "        "
   ]
  },
  {
   "cell_type": "markdown",
   "metadata": {},
   "source": [
    "How do theses informed search algorithms perform on our problem? Create the following overview table for the example problem.\n",
    "\n",
    "\n",
    "| Algorithm | start   | goal | cost | number of nodes visited | maximal stored nodes | complete | optimal |\n",
    "|------|------|-----|-----|-----|-----|-----|-----|\n",
    "| Greedy Search| Rotkreuz | Thalwil | 37 | 16 | 16 | No | No |\n",
    "| A\\*| Rotkreuz | Thalwil | n/a | n/a | n/a | Yes  | Yes |\n",
    "| IDA\\*| Rotkreuz | Thalwil | 36 | 140 | 174 | Yes  | Yes |\n",
    "\n",
    "Note: A\\* does not find a solution because it gets stuck in a local maxima.\n"
   ]
  },
  {
   "cell_type": "code",
   "execution_count": 3,
   "metadata": {},
   "outputs": [],
   "source": [
    "heuristic = lambda n: sbb.get_distance_between(n.state, problem.goal)"
   ]
  },
  {
   "cell_type": "code",
   "execution_count": 4,
   "metadata": {},
   "outputs": [
    {
     "name": "stdout",
     "output_type": "stream",
     "text": [
      "Found node: Thalwil\n",
      "   - Cost: 37.272000000000006\n",
      "   - # Visited Nodes: 16\n",
      "   - # Max Stored nodes: 16\n"
     ]
    }
   ],
   "source": [
    "greedy_node = greedy_search(problem, heuristic)\n",
    "assert greedy_node, \"Couldn't find a solution to the problem :(\""
   ]
  },
  {
   "cell_type": "code",
   "execution_count": 5,
   "metadata": {},
   "outputs": [
    {
     "ename": "AssertionError",
     "evalue": "Couldn't find a solution to the problem :(",
     "output_type": "error",
     "traceback": [
      "\u001b[0;31m---------------------------------------------------------------------------\u001b[0m",
      "\u001b[0;31mAssertionError\u001b[0m                            Traceback (most recent call last)",
      "\u001b[0;32m<ipython-input-5-e1a84ca8560e>\u001b[0m in \u001b[0;36m<module>\u001b[0;34m\u001b[0m\n\u001b[1;32m      1\u001b[0m \u001b[0ma_star_node\u001b[0m \u001b[0;34m=\u001b[0m \u001b[0ma_star_search\u001b[0m\u001b[0;34m(\u001b[0m\u001b[0mproblem\u001b[0m\u001b[0;34m,\u001b[0m \u001b[0mheuristic\u001b[0m\u001b[0;34m)\u001b[0m\u001b[0;34m\u001b[0m\u001b[0;34m\u001b[0m\u001b[0m\n\u001b[0;32m----> 2\u001b[0;31m \u001b[0;32massert\u001b[0m \u001b[0ma_star_node\u001b[0m\u001b[0;34m,\u001b[0m \u001b[0;34m\"Couldn't find a solution to the problem :(\"\u001b[0m\u001b[0;34m\u001b[0m\u001b[0;34m\u001b[0m\u001b[0m\n\u001b[0m",
      "\u001b[0;31mAssertionError\u001b[0m: Couldn't find a solution to the problem :("
     ]
    }
   ],
   "source": [
    "a_star_node = a_star_search(problem, heuristic)\n",
    "assert a_star_node, \"Couldn't find a solution to the problem :(\""
   ]
  },
  {
   "cell_type": "code",
   "execution_count": 6,
   "metadata": {},
   "outputs": [
    {
     "name": "stdout",
     "output_type": "stream",
     "text": [
      "Found node: Thalwil\n",
      "   - Cost: 36.906\n",
      "   - # Visited Nodes: 146\n",
      "   - # Max Stored nodes: 163\n"
     ]
    }
   ],
   "source": [
    "ierative_a_star_node = iterative_a_star(problem, heuristic)\n",
    "assert ierative_a_star_node, \"Couldn't find a solution to the problem :(\""
   ]
  }
 ],
 "metadata": {
  "kernelspec": {
   "display_name": "Python 3",
   "language": "python",
   "name": "python3"
  },
  "language_info": {
   "codemirror_mode": {
    "name": "ipython",
    "version": 3
   },
   "file_extension": ".py",
   "mimetype": "text/x-python",
   "name": "python",
   "nbconvert_exporter": "python",
   "pygments_lexer": "ipython3",
   "version": "3.6.8"
  }
 },
 "nbformat": 4,
 "nbformat_minor": 2
}
