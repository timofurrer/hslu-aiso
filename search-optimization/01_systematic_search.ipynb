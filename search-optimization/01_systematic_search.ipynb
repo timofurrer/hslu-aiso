{
 "cells": [
  {
   "cell_type": "markdown",
   "metadata": {},
   "source": [
    "# Exercise Search Algorithms #\n"
   ]
  },
  {
   "cell_type": "code",
   "execution_count": 1,
   "metadata": {},
   "outputs": [],
   "source": [
    "import sys\n",
    "from pathlib import Path\n",
    "\n",
    "sys.path.insert(0, str(Path().absolute()))\n",
    "\n",
    "try:\n",
    "    import search\n",
    "finally:\n",
    "    sys.path.pop(0)"
   ]
  },
  {
   "cell_type": "markdown",
   "metadata": {},
   "source": [
    "In the last session, we prepared different classes that are useful to solve search problems. You completed the Node class that we can use now for our first search strategy *breadth_first_tree_search*.\n",
    "\n",
    "If you had problems implementing the node class, please come and see me. Without the Node class, you can't solve the following exercises.\n",
    "\n",
    "First, you need to implement the breadth first search strategy:\n",
    "\n",
    "Hints: \n",
    "- create the FIFO queue frontier using collections.py, that implements high performance data types. The collection.deque allows you to easily extend the queue with `frontier.append` and to remove items from the queue with `frontier.popleft()`\n",
    "- remember that you can access the children of a node with the following code: `node.expand(problem)`\n",
    "- return the goal node if you can find it\n"
   ]
  },
  {
   "cell_type": "code",
   "execution_count": 2,
   "metadata": {},
   "outputs": [],
   "source": [
    "from collections import deque\n",
    "\n",
    "\n",
    "def breadth_first_graph_search(problem):\n",
    "    \"\"\" This implements the breadth first search strategy\n",
    "        and returns the goal node \"\"\"\n",
    "    node = search.Node(problem.initial)\n",
    "    \n",
    "    if problem.goal_test(node.state):\n",
    "        return node  # we found a solution\n",
    "    \n",
    "    frontier = deque([node])\n",
    "    explored = set([node])\n",
    "    \n",
    "    while frontier:\n",
    "        node = frontier.popleft()  # chooses the shallowest node in frontier\n",
    "        explored.add(node)\n",
    "        \n",
    "        for child in node.expand(problem):\n",
    "            visited_states = [n.state for n in frontier] + [n.state for n in explored]\n",
    "            if child.state not in visited_states:\n",
    "                if problem.goal_test(child.state):\n",
    "                    return child\n",
    "                \n",
    "                frontier.append(child)\n",
    "    \n",
    "    return None  # no solution found"
   ]
  },
  {
   "cell_type": "markdown",
   "metadata": {},
   "source": [
    "Lets create a map from the text book example:"
   ]
  },
  {
   "cell_type": "code",
   "execution_count": 3,
   "metadata": {},
   "outputs": [],
   "source": [
    "romania_map = search.UndirectedGraph(dict(\n",
    "    Arad=dict(Zerind=75, Sibiu=140, Timisoara=118),\n",
    "    Bucharest=dict(Urziceni=85, Pitesti=101, Giurgiu=90, Fagaras=211),\n",
    "    Craiova=dict(Drobeta=120, Rimnicu=146, Pitesti=138),\n",
    "    Drobeta=dict(Mehadia=75),\n",
    "    Eforie=dict(Hirsova=86),\n",
    "    Fagaras=dict(Sibiu=99),\n",
    "    Hirsova=dict(Urziceni=98),\n",
    "    Iasi=dict(Vaslui=92, Neamt=87),\n",
    "    Lugoj=dict(Timisoara=111, Mehadia=70),\n",
    "    Oradea=dict(Zerind=71, Sibiu=151),\n",
    "    Pitesti=dict(Rimnicu=97),\n",
    "    Rimnicu=dict(Sibiu=80),\n",
    "    Urziceni=dict(Vaslui=142)))\n",
    "\n",
    "romania_map.locations = dict(\n",
    "    Arad=(91, 492), Bucharest=(400, 327), Craiova=(253, 288),\n",
    "    Drobeta=(165, 299), Eforie=(562, 293), Fagaras=(305, 449),\n",
    "    Giurgiu=(375, 270), Hirsova=(534, 350), Iasi=(473, 506),\n",
    "    Lugoj=(165, 379), Mehadia=(168, 339), Neamt=(406, 537),\n",
    "    Oradea=(131, 571), Pitesti=(320, 368), Rimnicu=(233, 410),\n",
    "    Sibiu=(207, 457), Timisoara=(94, 410), Urziceni=(456, 350),\n",
    "    Vaslui=(509, 444), Zerind=(108, 531))"
   ]
  },
  {
   "cell_type": "markdown",
   "metadata": {},
   "source": [
    "With this, we can test our search algorithm. We define our problem and let the breadth first search find a solution."
   ]
  },
  {
   "cell_type": "code",
   "execution_count": 4,
   "metadata": {},
   "outputs": [],
   "source": [
    "start = 'Arad'\n",
    "goal = 'Bucharest'\n",
    "problem = search.GraphProblem(start, goal, romania_map)\n",
    "node = breadth_first_graph_search(problem)"
   ]
  },
  {
   "cell_type": "markdown",
   "metadata": {},
   "source": [
    "The following code will show you some information about the search:"
   ]
  },
  {
   "cell_type": "code",
   "execution_count": 5,
   "metadata": {},
   "outputs": [
    {
     "name": "stdout",
     "output_type": "stream",
     "text": [
      "The search algorithm reached Bucharest with a cost of 450.\n",
      "The path is the following: > Arad > Sibiu > Fagaras > Bucharest\n"
     ]
    }
   ],
   "source": [
    "def print_info_about_search(node):\n",
    "    print(\"The search algorithm reached \" + node.state + \" with a cost of \" + str(node.path_cost) + \".\")\n",
    "    path = node.path()\n",
    "    directions = \"\"\n",
    "    for n in path:\n",
    "        directions = directions + \" > \" + n.state\n",
    "    print(\"The path is the following:\" + directions)\n",
    "\n",
    "print_info_about_search(node)"
   ]
  },
  {
   "cell_type": "markdown",
   "metadata": {},
   "source": [
    "Congratulations, you have implemented your first search algorithm!\n",
    "\n",
    "## Swiss Railway System ##\n",
    "\n",
    "The SBB OpenData platform (https://data.sbb.ch/) provides all train lines and hubs (Betriebsknotenpunkte) of their railway system. I briefly mentioned the data set in the beginning.\n",
    "\n",
    "I created a SBB class that can be used to import the data from the json file:\n",
    "\n"
   ]
  },
  {
   "cell_type": "code",
   "execution_count": 6,
   "metadata": {},
   "outputs": [
    {
     "name": "stdout",
     "output_type": "stream",
     "text": [
      "successfully imported 2787 hubs\n",
      "successfully imported 401 train lines\n"
     ]
    }
   ],
   "source": [
    "from sbb import SBB\n",
    "\n",
    "sbb = SBB()\n",
    "sbb.importData('linie-mit-betriebspunkten.json')"
   ]
  },
  {
   "cell_type": "markdown",
   "metadata": {},
   "source": [
    "The object sbb contains know all the hubs and trainlines. We can visualize the hubs with matplotlib:"
   ]
  },
  {
   "cell_type": "code",
   "execution_count": 7,
   "metadata": {},
   "outputs": [],
   "source": [
    "import matplotlib.pyplot as plt\n",
    "\n",
    "def plot_hubs(hubs, labelNames = False):\n",
    "    fig = plt.figure(figsize=(10,10))\n",
    "    x =[]; y = []; names = [];\n",
    "    for h in hubs:\n",
    "        new_x = hubs[h].x\n",
    "        new_y = hubs[h].y\n",
    "        x.append(new_x)\n",
    "        y.append(new_y)\n",
    "        if labelNames:\n",
    "            plt.text(new_x+0.01, new_y+0.01, h, fontsize=9)              \n",
    "    plt.scatter(x,y, marker='.', color='black')  \n",
    "    plt.axis('equal')\n",
    "    \n",
    "plot_hubs(sbb.hubs)"
   ]
  },
  {
   "cell_type": "markdown",
   "metadata": {},
   "source": [
    "With a little imagination and geographic knowledge you can recognize the different regions of Switzerland.\n",
    "\n",
    "We want to implement a search algorithm that finds the shortest way between 'Rotkreuz' and 'Thalwil'. In this exercise, we are not restricted to the official train lines. We can use the railway system with our own search agent and decide at each hub in which direction we want to go. If you have successfully implemented the classes above, the following code should execute and provide the directions between Rotkreuz and Zermatt."
   ]
  },
  {
   "cell_type": "code",
   "execution_count": 8,
   "metadata": {},
   "outputs": [
    {
     "name": "stdout",
     "output_type": "stream",
     "text": [
      "The search algorithm reached Thalwil with a cost of 36.906.\n",
      "The path is the following: > Rotkreuz > Hunenberg_Chamleten > Hunenberg_Zythus > Cham > Cham_Alpenblick > Zug_Chollermuli > Zug_Schutzengel > Zug > Zug_Nord_Abzw > Baar_Lindenpark > Baar_Neufeld > Baar > Litti_Baar > Sihlbrugg > Horgen_Oberdorf > Oberrieden_Dorf > Thalwil\n"
     ]
    }
   ],
   "source": [
    "start = 'Rotkreuz'\n",
    "goal = 'Thalwil'\n",
    "sbb_map = search.UndirectedGraph(sbb.createMap())\n",
    "problem = search.GraphProblem(start, goal, sbb_map)\n",
    "node = breadth_first_graph_search(problem)\n",
    "print_info_about_search(node)"
   ]
  },
  {
   "cell_type": "markdown",
   "metadata": {},
   "source": [
    "##  More Uninformed Search Algorithms ##\n",
    "\n",
    "As you know, the breadth-search algorithm is just one of many search strategies. Implement the following search algorithms and evaluate their performance. You might have to adapt (or create a subclass) of certain classes we used before, to determine the depth of the search tree for example. You can use the PriorityQueue class below to implement the Uniform Cost Search.\n",
    "\n",
    "1. Depth First Search (DFS)\n",
    "1. Depth Limited Search (DLS)\n",
    "1. Iterative Deepening Search (IDS)\n",
    "1. Uniform Cost Search (UCS)\n",
    "\n",
    "Try to visualize which nodes (hubs) have been visited by the search algorithm. Create for each search strategy an image that shows the start, the goal, the solution path and all the visited nodes.\n",
    "\n",
    "Answer the following questions for each algorithm:\n",
    "\n",
    "1. How does your algorithm deal with loops? \n",
    "1. Can you make an estimate about the time and memory requirements? \n",
    "1. Is your algorithm complete and optimal?\n",
    "\n",
    "Fill the following table:\n",
    "\n",
    "| Algorithm | start   | goal | cost | number of nodes visited | maximal stored nodes | complete | optimal |\n",
    "|------|------|-----|-----|-----|-----|-----|-----|\n",
    "| BFS| Rotkreuz | Thalwil | ~ 36 | 17 | 483 | Yes | Yes |\n",
    "| DFS|Rotkreuz | Thalwil | 740 | 937 | 440 | semi | Yes |\n",
    "| DLS|Rotkreuz | Thalwil | n/a | 81 | n/a | No | Maybe |\n",
    "| IDS|Rotkreuz | Thalwil | 36 | 17 | 54 | Yes | Yes |\n",
    "| UCS|Rotkreuz | Thalwil | 36 | 147 | 120 | Yes | Yes |\n",
    "\n",
    "\n",
    "\n",
    "What is special about the sbb railway map in terms of complexity (branching factor, depth)? How could you preprocess the data set in order to reduce the search space?\n",
    "\n",
    "--->"
   ]
  },
  {
   "cell_type": "code",
   "execution_count": 9,
   "metadata": {},
   "outputs": [],
   "source": [
    "def plot_it(node, start, goal):\n",
    "    fig = plt.figure(figsize=(10, 10))\n",
    "    \n",
    "    def get_lims_for_node(start, goal, zoom=0.3):\n",
    "        goal_hub = sbb.hubs[goal]\n",
    "        start_hub = sbb.hubs[start]\n",
    "\n",
    "        x = goal_hub.x - (goal_hub.x - start_hub.x) / 2.0\n",
    "        y = goal_hub.y - (goal_hub.y - start_hub.y) / 2.0\n",
    "\n",
    "        ylims = [y - zoom, y + zoom]\n",
    "        xlims = [x - zoom, x + zoom]\n",
    "        return xlims, ylims\n",
    "\n",
    "    xlims, ylims = get_lims_for_node(start, goal)\n",
    "\n",
    "    def plot_internal(hubs, color, labels=False):\n",
    "        if fig is None:\n",
    "            plt.figure(figsize=(10, 10))\n",
    "\n",
    "        x = [hubs[name].x for name in hubs]\n",
    "        y = [hubs[name].y for name in hubs]\n",
    "\n",
    "        plt.scatter(x, y, marker='.', color=color)\n",
    "        plt.axis('equal')\n",
    "        plt.axis('off')\n",
    "\n",
    "        if ylims is not None:\n",
    "            plt.ylim(ylims)\n",
    "\n",
    "        if xlims is not None:\n",
    "            plt.xlim(xlims)\n",
    "\n",
    "        if labels:\n",
    "            for h in hubs:\n",
    "                show_because_of_x = True if xlims is None or xlims[0] < hubs[h].x < xlims[1] else False\n",
    "                show_because_of_y = True if ylims is None or ylims[0] < hubs[h].y < ylims[1] else False\n",
    "                if show_because_of_x and show_because_of_y:\n",
    "                    plt.text(hubs[h].x, hubs[h].y, h, fontsize=6)\n",
    "                    \n",
    "    \n",
    "    solution_nodes = node.solution() if isinstance(node, search.Node) else []\n",
    "    solution_hubs = {name: sbb.hubs[name] for name in sbb.hubs if name in solution_nodes}\n",
    "    start_hub = {name: sbb.hubs[name] for name in sbb.hubs if name == start}\n",
    "    goal_hub = {name: sbb.hubs[name] for name in sbb.hubs if name == goal}\n",
    "\n",
    "    plot_internal(sbb.hubs, 'silver')\n",
    "    plot_internal(solution_hubs, 'orange')\n",
    "    plot_internal(start_hub, 'green')\n",
    "    plot_internal(goal_hub, 'red')\n",
    "\n",
    "    plt.gca().legend(('all', 'solution', 'start', 'goal'))\n",
    "    plt.show()"
   ]
  },
  {
   "cell_type": "code",
   "execution_count": 10,
   "metadata": {},
   "outputs": [
    {
     "data": {
      "image/png": "[encoded data removed]",
      "text/plain": [
       "<Figure size 720x720 with 1 Axes>"
      ]
     },
     "metadata": {
      "needs_background": "light"
     },
     "output_type": "display_data"
    }
   ],
   "source": [
    "plot_it(node, start, goal)"
   ]
  },
  {
   "cell_type": "markdown",
   "metadata": {},
   "source": [
    "## DFS"
   ]
  },
  {
   "cell_type": "code",
   "execution_count": 11,
   "metadata": {},
   "outputs": [],
   "source": [
    "def depth_first_graph_search(problem):\n",
    "    node = search.Node(problem.initial)\n",
    "    \n",
    "    if problem.goal_test(node.state):\n",
    "        return node  # we found a solution\n",
    "    \n",
    "    frontier = deque([node])\n",
    "    explored = set([node])\n",
    "    \n",
    "    while frontier:\n",
    "        node = frontier.pop()\n",
    "        explored.add(node)\n",
    "        \n",
    "        if problem.goal_test(node.state):\n",
    "            return node\n",
    "        \n",
    "        for child in node.expand(problem):\n",
    "            visited_states = [n.state for n in frontier] + [n.state for n in explored]\n",
    "            if child.state not in visited_states:\n",
    "                frontier.append(child)\n",
    "    \n",
    "    return None  # no solution found"
   ]
  },
  {
   "cell_type": "code",
   "execution_count": 12,
   "metadata": {},
   "outputs": [
    {
     "data": {
      "image/png": "[encoded data removed]",
      "text/plain": [
       "<Figure size 720x720 with 1 Axes>"
      ]
     },
     "metadata": {
      "needs_background": "light"
     },
     "output_type": "display_data"
    }
   ],
   "source": [
    "node = depth_first_graph_search(problem)\n",
    "plot_it(node, start, goal)"
   ]
  },
  {
   "cell_type": "markdown",
   "metadata": {},
   "source": [
    "## DLS"
   ]
  },
  {
   "cell_type": "code",
   "execution_count": 13,
   "metadata": {},
   "outputs": [],
   "source": [
    "def recursive_depth_limited_graph_search(node, problem, limit):\n",
    "    if problem.goal_test(node.state):\n",
    "        return node\n",
    "\n",
    "    elif limit == 0:\n",
    "        return True\n",
    "\n",
    "    else:\n",
    "        cutoff = False\n",
    "        for child in node.expand(problem):\n",
    "            result = recursive_depth_limited_graph_search(child, problem, limit - 1)\n",
    "\n",
    "            if isinstance(result, search.Node):\n",
    "                return result\n",
    "            elif result is True:\n",
    "                cutoff = True\n",
    "\n",
    "        if cutoff is True:\n",
    "            return True\n",
    "        else:\n",
    "            return False\n",
    "\n",
    "def depth_limited_graph_search(problem, limit):\n",
    "    return recursive_depth_limited_graph_search(search.Node(problem.initial), problem, limit)"
   ]
  },
  {
   "cell_type": "code",
   "execution_count": 14,
   "metadata": {},
   "outputs": [
    {
     "data": {
      "image/png": "[encoded data removed]",
      "text/plain": [
       "<Figure size 720x720 with 1 Axes>"
      ]
     },
     "metadata": {
      "needs_background": "light"
     },
     "output_type": "display_data"
    }
   ],
   "source": [
    "node = depth_limited_graph_search(problem, 20)\n",
    "plot_it(node, start, goal)"
   ]
  },
  {
   "cell_type": "markdown",
   "metadata": {},
   "source": [
    "## IDS"
   ]
  },
  {
   "cell_type": "code",
   "execution_count": 15,
   "metadata": {},
   "outputs": [],
   "source": [
    "def iterative_depth_first_search(problem):\n",
    "    limit = 1\n",
    "    while True:\n",
    "        result = depth_limited_graph_search(problem, limit)\n",
    "\n",
    "        if isinstance(result, search.Node):\n",
    "            return result\n",
    "        elif result is False:\n",
    "            return None\n",
    "        else:\n",
    "            limit = limit + 1"
   ]
  },
  {
   "cell_type": "code",
   "execution_count": 16,
   "metadata": {},
   "outputs": [
    {
     "data": {
      "image/png": "[encoded data removed]",
      "text/plain": [
       "<Figure size 720x720 with 1 Axes>"
      ]
     },
     "metadata": {
      "needs_background": "light"
     },
     "output_type": "display_data"
    }
   ],
   "source": [
    "node = iterative_depth_first_search(problem)\n",
    "plot_it(node, start, goal)"
   ]
  },
  {
   "cell_type": "markdown",
   "metadata": {},
   "source": [
    "## UCS"
   ]
  },
  {
   "cell_type": "code",
   "execution_count": 17,
   "metadata": {},
   "outputs": [],
   "source": [
    "def uniform_cost_search(problem):\n",
    "    node = search.Node(problem.initial)\n",
    "    \n",
    "    frontier = search.PriorityQueue('min', lambda n: n.path_cost)\n",
    "    frontier.append(node)\n",
    "    explored = set([node])\n",
    "    \n",
    "    while frontier:\n",
    "        node = frontier.pop()\n",
    "\n",
    "        if problem.goal_test(node.state):\n",
    "            return node\n",
    "        \n",
    "        explored.add(node)\n",
    "        \n",
    "        for child in node.expand(problem):\n",
    "            if child not in frontier and child.state not in explored:\n",
    "                frontier.append(child)\n",
    "            else:\n",
    "                visisted = [n for _, n in frontier.heap if n.state == child.state]\n",
    "                if visisted:\n",
    "                    del frontier[visisted[0]]\n",
    "                    frontier.append(child)\n",
    "    \n",
    "    return None  # no solution found"
   ]
  },
  {
   "cell_type": "code",
   "execution_count": null,
   "metadata": {},
   "outputs": [],
   "source": [
    "node = uniform_cost_search(problem)\n",
    "plot_it(node, start, goal)"
   ]
  }
 ],
 "metadata": {
  "kernelspec": {
   "display_name": "Python 3",
   "language": "python",
   "name": "python3"
  },
  "language_info": {
   "codemirror_mode": {
    "name": "ipython",
    "version": 3
   },
   "file_extension": ".py",
   "mimetype": "text/x-python",
   "name": "python",
   "nbconvert_exporter": "python",
   "pygments_lexer": "ipython3",
   "version": "3.6.8"
  }
 },
 "nbformat": 4,
 "nbformat_minor": 2
}
