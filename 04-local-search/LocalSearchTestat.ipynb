{
 "cells": [
  {
   "cell_type": "markdown",
   "metadata": {},
   "source": [
    "# Local Search Testat"
   ]
  },
  {
   "cell_type": "markdown",
   "metadata": {},
   "source": [
    "## Is your solution optimal?\n",
    "\n",
    "It is not optimal.\n",
    "\n",
    "## Why is this so?\n",
    "\n",
    "The problem is that it is getting stuck in local maxima / minima (in our case), ridges or plateaus.\n",
    "\n",
    "## If no, what options do you suggest to improve the algorithm?\n",
    "\n",
    "* Tabu Search\n",
    "* Various Escape Techniques (described in the slides)\n",
    "* Use another algorithm ;)"
   ]
  }
 ],
 "metadata": {
  "kernelspec": {
   "display_name": "Python 3",
   "language": "python",
   "name": "python3"
  },
  "language_info": {
   "codemirror_mode": {
    "name": "ipython",
    "version": 3
   },
   "file_extension": ".py",
   "mimetype": "text/x-python",
   "name": "python",
   "nbconvert_exporter": "python",
   "pygments_lexer": "ipython3",
   "version": "3.6.4"
  }
 },
 "nbformat": 4,
 "nbformat_minor": 2
}
